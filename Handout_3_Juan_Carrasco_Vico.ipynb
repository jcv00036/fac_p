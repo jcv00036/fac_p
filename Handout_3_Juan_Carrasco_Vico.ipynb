{
  "nbformat": 4,
  "nbformat_minor": 0,
  "metadata": {
    "colab": {
      "provenance": [],
      "collapsed_sections": [
        "lX2aqc_ebFiU",
        "V96dzSixVDT3",
        "wLPsO5K9roMG",
        "-bqqY3FHbaMe",
        "RcCH5nuhjlOp",
        "XV6yFi6061tS",
        "fKf_yS5U6-t9",
        "brtE5JO79-hy",
        "aQ1st3Y0_opn",
        "FNYjvO4kA6Pa",
        "Q_VkVQJXCoeY",
        "dtGsFMGdVv9q",
        "OmJPWY06Ybu0",
        "-9qSeVNWZBo5",
        "sHwPDaGCeY1e",
        "HHVFFAjeN_OS",
        "AhvpkLmOUqeT",
        "ulkgngIVak1C",
        "mYpNa6PqbFPZ",
        "r6bK2JuUdMIf",
        "uBtdW79PtPPg",
        "6K_SaAElmRsd",
        "Mh51gUMvA6N1"
      ],
      "mount_file_id": "1-q8_OFr2qrULCFqtSOxmf-wQGWChCqhd",
      "authorship_tag": "ABX9TyNo6tn6hpgC3h/Bcnew63Nu",
      "include_colab_link": true
    },
    "kernelspec": {
      "name": "python3",
      "display_name": "Python 3"
    },
    "language_info": {
      "name": "python"
    }
  },
  "cells": [
    {
      "cell_type": "markdown",
      "metadata": {
        "id": "view-in-github",
        "colab_type": "text"
      },
      "source": [
        "<a href=\"https://colab.research.google.com/github/jcv00036/fac_p/blob/main/Handout_3_Juan_Carrasco_Vico.ipynb\" target=\"_parent\"><img src=\"https://colab.research.google.com/assets/colab-badge.svg\" alt=\"Open In Colab\"/></a>"
      ]
    },
    {
      "cell_type": "markdown",
      "source": [
        "<h1><b>ANALYSIS AND NUMERICAL METHODS - HANDOUT 3</b></h1>\n",
        "   \n",
        "\n",
        "*   Name: Juan Carrasco Vico\n",
        "*   At: EPSJ - University of Jaén\n",
        "*   email: <a href=\"mailto:jcv00036@red.ujaen.es\">jcv00036@red.ujaen.es</a>\n",
        "*   Link to this file in GitHub: <a href= https://github.com/jcv00036/amn_p/blob/main/Handout_3_Juan_Carrasco_Vico.ipynb>[link]</a> (visualization could be easier)"
      ],
      "metadata": {
        "id": "l4OL6S17l4Lb"
      }
    },
    {
      "cell_type": "code",
      "source": [
        "#Import all the libraries we can use:\n",
        "import math\n",
        "import numpy as np\n",
        "import matplotlib.pyplot as plt"
      ],
      "metadata": {
        "id": "5Qvo7dOrl2vp"
      },
      "execution_count": 1,
      "outputs": []
    },
    {
      "cell_type": "markdown",
      "source": [
        "#**Implementation of mathematical methods**"
      ],
      "metadata": {
        "id": "lX2aqc_ebFiU"
      }
    },
    {
      "cell_type": "markdown",
      "source": [
        "## 1.Plot the sequence {xn} with 1 ≤ n ≤ 50 for:"
      ],
      "metadata": {
        "id": "V96dzSixVDT3"
      }
    },
    {
      "cell_type": "code",
      "execution_count": 2,
      "metadata": {
        "id": "KUWqAD64UMIF"
      },
      "outputs": [],
      "source": [
        "def x(n,r): #my sequence\n",
        "  if n==1: return 0.5\n",
        "  return r*x(n-1,r)\n",
        "\n",
        "#Extrems of my interval\n",
        "a = 1\n",
        "b = 4"
      ]
    },
    {
      "cell_type": "markdown",
      "source": [
        "### a)r=2.5"
      ],
      "metadata": {
        "id": "NL00NEQFWQbn"
      }
    },
    {
      "cell_type": "code",
      "source": [
        "r = 2.5\n",
        "y = [x(n,r) for n in range(a,b+1)]\n",
        "nPlot = [n for n in range(a,b+1)]\n",
        "fig, ax = plt.subplots()\n",
        "ax.scatter(nPlot,y)\n",
        "\n",
        "plt.show()"
      ],
      "metadata": {
        "id": "tvKVf_sgnbrQ",
        "colab": {
          "base_uri": "https://localhost:8080/",
          "height": 0
        },
        "outputId": "7dc6b4f4-8a60-47ce-f8a8-d8ad9bca9cef"
      },
      "execution_count": 3,
      "outputs": [
        {
          "output_type": "display_data",
          "data": {
            "text/plain": [
              "<Figure size 640x480 with 1 Axes>"
            ],
            "image/png": "[encoded data removed]"
          },
          "metadata": {}
        }
      ]
    },
    {
      "cell_type": "markdown",
      "source": [
        "### b)r=3.5"
      ],
      "metadata": {
        "id": "2o98cZa1rCpJ"
      }
    },
    {
      "cell_type": "code",
      "source": [
        "r = 3.5\n",
        "y = [x(n,r) for n in range(a,b+1)]\n",
        "nPlot = [n for n in range(a,b+1)]\n",
        "fig, ax = plt.subplots()\n",
        "ax.scatter(nPlot,y)\n",
        "\n",
        "plt.show()"
      ],
      "metadata": {
        "id": "fxYWxx5ioOFp",
        "colab": {
          "base_uri": "https://localhost:8080/",
          "height": 0
        },
        "outputId": "ec2fb42c-58b3-429e-cff0-152b73fc20de"
      },
      "execution_count": 4,
      "outputs": [
        {
          "output_type": "display_data",
          "data": {
            "text/plain": [
              "<Figure size 640x480 with 1 Axes>"
            ],
            "image/png": "[encoded data removed]"
          },
          "metadata": {}
        }
      ]
    },
    {
      "cell_type": "markdown",
      "source": [
        "### c)r=3.55"
      ],
      "metadata": {
        "id": "K7TxBMvyrLdo"
      }
    },
    {
      "cell_type": "code",
      "source": [
        "r = 3.55\n",
        "y = [x(n,r) for n in range(a,b+1)]\n",
        "nPlot = [n for n in range(a,b+1)]\n",
        "fig, ax = plt.subplots()\n",
        "ax.scatter(nPlot,y)\n",
        "\n",
        "plt.show()"
      ],
      "metadata": {
        "id": "DWc31eBdrPgo",
        "colab": {
          "base_uri": "https://localhost:8080/",
          "height": 0
        },
        "outputId": "b41fc575-b949-462a-fc7b-18daed5506bf"
      },
      "execution_count": 5,
      "outputs": [
        {
          "output_type": "display_data",
          "data": {
            "text/plain": [
              "<Figure size 640x480 with 1 Axes>"
            ],
            "image/png": "[encoded data removed]"
          },
          "metadata": {}
        }
      ]
    },
    {
      "cell_type": "markdown",
      "source": [
        "### d)r=1 + √8"
      ],
      "metadata": {
        "id": "2jSmNwuArXg4"
      }
    },
    {
      "cell_type": "code",
      "source": [
        "r = 1+ math.sqrt(8)\n",
        "y = [x(n,r) for n in range(a,b+1)]\n",
        "nPlot = [n for n in range(a,b+1)]\n",
        "fig, ax = plt.subplots()\n",
        "ax.scatter(nPlot,y)\n",
        "\n",
        "plt.show()"
      ],
      "metadata": {
        "id": "EvFHHRl_rZDj",
        "colab": {
          "base_uri": "https://localhost:8080/",
          "height": 0
        },
        "outputId": "660e581b-6661-4a52-b318-280f73a3b8ab"
      },
      "execution_count": 6,
      "outputs": [
        {
          "output_type": "display_data",
          "data": {
            "text/plain": [
              "<Figure size 640x480 with 1 Axes>"
            ],
            "image/png": "[encoded data removed]"
          },
          "metadata": {}
        }
      ]
    },
    {
      "cell_type": "markdown",
      "source": [
        "## 2.Write a function remainderPol(P,Q) whose input are two polynomials P and Q that returns the remainder of the division of P and Q.\n"
      ],
      "metadata": {
        "id": "wLPsO5K9roMG"
      }
    },
    {
      "cell_type": "code",
      "source": [
        "def multiplyPol(P,Q):\n",
        "  \"\"\"\n",
        "  Parameters\n",
        "    ----------\n",
        "    P,Q: array\n",
        "        Two arrays that represent two polynomials\n",
        "    Returns\n",
        "    -------\n",
        "    product: array\n",
        "        The product of P(x) and Q(x)\n",
        "  \"\"\"\n",
        "  product = [0 for i in range(len(P)+len(Q)-1)]\n",
        "  for i in range(0,len(P)):\n",
        "    for j in range(0,len(Q)):\n",
        "      product[i+j] += P[i]*Q[j]\n",
        "  return product;\n",
        "\n",
        "def remainderPol(P,Q):\n",
        "  \"\"\"\n",
        "  Parameters\n",
        "    ----------\n",
        "    P,Q: array\n",
        "        Two arrays that represent two polynomials\n",
        "    Returns\n",
        "    -------\n",
        "    remainder: array\n",
        "        The remainder of the division P(x)/Q(x)\n",
        "  \"\"\"\n",
        "  if len(Q) == 0: #If Q is 0, the division cannot take place and so the remainder is NaN\n",
        "    return \"Nan\"\n",
        "  elif len(Q)>len(P): #If Q's degree is bigger than P's, the quotient is 0 and remainder is Q\n",
        "    return Q\n",
        "  else:\n",
        "    #P(x)/Q(x) is calculated like so: Divide the leading terms, and multyply Q by the quotient, the substraction of P(x) and Q(x)*Quotient(x) = Remainder(x)\n",
        "    #This goes on and on until Quotient(x)'s degree < Q(x)'s\n",
        "    quotient = [0 for i in range(len(P)-len(Q)+1)]\n",
        "    quotient[len(P)-len(Q)] = P[len(P)-1]//Q[len(Q)-1]\n",
        "    remainder = [0 for i in range(len(P))];\n",
        "    for i in range(len(P)):\n",
        "      remainder[i] = P[i]-multiplyPol(Q,quotient)[i]\n",
        "    del remainder[len(P)-1]\n",
        "    while len(remainder) >= len(Q):\n",
        "      remainder = remainderPol(remainder,Q)\n",
        "  return remainder\n",
        "\n",
        "def printPol(P):\n",
        "  \"\"\"Prints a polynomial\n",
        "\n",
        "  Parameters\n",
        "  ----------\n",
        "    P: array\n",
        "        Array that represent a polynomial\n",
        "  \"\"\"\n",
        "  printed = False\n",
        "  for i in range(len(P)-1,-1,-1):\n",
        "    if(P[i]!=0):\n",
        "      if(i!=len(P)-1 and printed):  print( \"+ \" ,end='')\n",
        "      print(P[i], end='')\n",
        "      printed = True\n",
        "      if(i!=0 and i !=1):  print( \"(x^\"+str(i)+\") \" ,end='')\n",
        "      if(i==1):  print( \"x \" ,end='')\n",
        "  if not printed: print(\"0\")"
      ],
      "metadata": {
        "id": "uUVDXabmr1VR"
      },
      "execution_count": 7,
      "outputs": []
    },
    {
      "cell_type": "code",
      "source": [
        "P = [1,-1,0,1] #meaning x^3 + 2x^3 + - x + 1\n",
        "Q = [0,0,1] #meaning x^2\n",
        "\n",
        "#This division has a quotient of x and a remainder of -x+1, son the output should be \"-1x + 1\"\n",
        "\n",
        "remainder= remainderPol(P,Q)\n",
        "if remainder == \"Nan\":\n",
        "  print(\"Error: Q(x) musn't be 0\")\n",
        "else:\n",
        "  print(\"Remainder:\")\n",
        "  printPol(remainder)"
      ],
      "metadata": {
        "colab": {
          "base_uri": "https://localhost:8080/"
        },
        "id": "FmokLX74akHG",
        "outputId": "960053b0-480c-4f98-a838-60a924327971"
      },
      "execution_count": 8,
      "outputs": [
        {
          "output_type": "stream",
          "name": "stdout",
          "text": [
            "Remainder:\n",
            "-1x + 1"
          ]
        }
      ]
    },
    {
      "cell_type": "markdown",
      "source": [
        "##3.Write two functions exp(z) and log(z) (with input a complex number z) that return the complex exponential and the principal logarithm of z, respectively.\n"
      ],
      "metadata": {
        "id": "-bqqY3FHbaMe"
      }
    },
    {
      "cell_type": "code",
      "source": [
        "#We represent a complex number z as a list of the real part and imaginary part coefficients:\n",
        "z = [1,1]\n",
        "\n",
        "def complexProduct(z,w):\n",
        "  \"\"\"\n",
        "  Parameters\n",
        "  ----------\n",
        "    z,w: array of length 2\n",
        "        Arrays that represent a complex number\n",
        "\n",
        "  Returns\n",
        "  -------\n",
        "    q: array of length 2\n",
        "        Array that represents a complex number, the product of z and w\n",
        "  \"\"\"\n",
        "  a , b = z\n",
        "  c , d = w\n",
        "  q = [(a*c - b*d),(a*d + b*c)]\n",
        "  return q\n",
        "\n",
        "def modulus(z):\n",
        "  \"\"\"\n",
        "  Parameters\n",
        "  ----------\n",
        "    z: array of length 2\n",
        "        Array that represents a complex number\n",
        "\n",
        "  Returns\n",
        "  -------\n",
        "    modulus: float\n",
        "        modulus of complex number z\n",
        "  \"\"\"\n",
        "  a , b = z\n",
        "  modulus = math.sqrt(a**2+b**2)\n",
        "  return modulus\n",
        "\n",
        "def arg(z):\n",
        "  \"\"\"\n",
        "  Parameters\n",
        "  ----------\n",
        "    z: array of length 2\n",
        "        Array that represents a complex number\n",
        "\n",
        "  Returns\n",
        "  -------\n",
        "    arg: float\n",
        "        argument of complex number z (in radians)\n",
        "  \"\"\"\n",
        "  a , b = z\n",
        "  if a>0:\n",
        "    arg = np.arctan(b/a)\n",
        "  elif a < 0 and b > 0:\n",
        "    arg = np.arctan(b/a) - np.pi\n",
        "  elif a<0 and b<0:\n",
        "    arg = np.arctan(b/a) + np.pi\n",
        "  elif a == 0 and b>0:\n",
        "    arg = np.pi/2\n",
        "  else:\n",
        "    arg = -np.pi/2\n",
        "  return arg\n",
        "\n",
        "def exp(z):\n",
        "  \"\"\"\n",
        "  Parameters\n",
        "  ----------\n",
        "    z: array of length 2\n",
        "        Array that represents a complex number\n",
        "\n",
        "  Returns\n",
        "  -------\n",
        "    exponential: array of length 2\n",
        "        Array that represents a complex number, the exponential of z\n",
        "  \"\"\"\n",
        "  exponential = complexProduct([np.e**z[0],0],[np.cos(z[1]),np.sin(z[1])])\n",
        "  return exponential\n",
        "\n",
        "def log(z):\n",
        "  \"\"\"\n",
        "  Parameters\n",
        "  ----------\n",
        "    z: array of length 2\n",
        "        Array that represents a complex number\n",
        "\n",
        "  Returns\n",
        "  -------\n",
        "    logarithm: array of length 2\n",
        "        Array that represents a complex number, the principal logarithm of z\n",
        "  \"\"\"\n",
        "  logarithm = [np.log(modulus(z)),arg(z)]\n",
        "  return logarithm"
      ],
      "metadata": {
        "id": "WPJN3VVobeW0"
      },
      "execution_count": 9,
      "outputs": []
    },
    {
      "cell_type": "code",
      "source": [
        "exponential = exp(z)\n",
        "print(\"e^z = \", exponential[0],\" + i*\", exponential[1])\n",
        "\n",
        "logarithm = log(z)\n",
        "print(\"log(z) = \", logarithm[0],\" + i*\", logarithm[1])"
      ],
      "metadata": {
        "colab": {
          "base_uri": "https://localhost:8080/"
        },
        "id": "zC4th79tkef5",
        "outputId": "3e441957-8d91-49dd-da58-f047b2cbda22"
      },
      "execution_count": 10,
      "outputs": [
        {
          "output_type": "stream",
          "name": "stdout",
          "text": [
            "e^z =  1.4686939399158851  + i* 2.2873552871788423\n",
            "log(z) =  0.3465735902799727  + i* 0.7853981633974483\n"
          ]
        }
      ]
    },
    {
      "cell_type": "markdown",
      "source": [
        "##4.Write two functions sine(x) and cosine(x) following the above steps and using recursivity. Show the absolute error in the comparison with the built-in functions math.sin(x) and math.cos(x) at integer values of x between −10 and 10.\n"
      ],
      "metadata": {
        "id": "RcCH5nuhjlOp"
      }
    },
    {
      "cell_type": "code",
      "source": [
        "def sine(x):\n",
        "  \"\"\"\n",
        "  Parameters\n",
        "  ----------\n",
        "    x: float\n",
        "        angle in radians\n",
        "\n",
        "  Returns\n",
        "  -------\n",
        "    sin: float\n",
        "        sine of x\n",
        "  \"\"\"\n",
        "  #Reduce the x to the interval [0,2pi]\n",
        "  if x < 0 :\n",
        "    while(x < 0):\n",
        "      x += 2*np.pi\n",
        "    return sine(x)\n",
        "  elif x > 2*np.pi:\n",
        "    while(x > 2*np.pi):\n",
        "      x -= 2*np.pi\n",
        "    return sine(x)\n",
        "\n",
        "  #Reduce the x to the interval [0,pi] if x is in [pi,2pi]\n",
        "  if x > np.pi and x<= 2*np.pi:\n",
        "    return -sine(x+np.pi)\n",
        "\n",
        "  #Reduce x to [0,pi/2] if x is in [pi/2,pi]\n",
        "  if x >= np.pi/2 and x<= np.pi:\n",
        "    return sine(np.pi-x)\n",
        "\n",
        "  #Reduce x to [0,pi/4] if x is in [pi/4,pi/2]\n",
        "  if x >= np.pi/4 and x<= np.pi/2:\n",
        "    return cosine(np.pi/2 - x)\n",
        "\n",
        "  sin = x - (x**3)/6 + (x**5)/120 - (x**7)/5040\n",
        "  return sin\n",
        "\n",
        "def cosine(x):\n",
        "  \"\"\"\n",
        "  Parameters\n",
        "  ----------\n",
        "    x: float\n",
        "        angle in radians\n",
        "\n",
        "  Returns\n",
        "  -------\n",
        "    cos: float\n",
        "        cosine of x\n",
        "  \"\"\"\n",
        "  #Reduce the x to the interval [0,2pi]\n",
        "  if x < 0 :\n",
        "    while(x < 0):\n",
        "      x += 2*np.pi\n",
        "    return cosine(x)\n",
        "  elif x > 2*np.pi:\n",
        "    while(x > 2*np.pi):\n",
        "      x -= 2*np.pi\n",
        "    return cosine(x)\n",
        "\n",
        "  #Reduce the x to the interval [0,pi] if x is in [pi,2pi]\n",
        "  if x > np.pi and x<= 2*np.pi:\n",
        "    return -cosine(x+np.pi)\n",
        "\n",
        "  #Reduce x to [0,pi/2] if x is in [pi/2,pi]\n",
        "  if x >= np.pi/2 and x<= np.pi:\n",
        "    return cosine(np.pi-x)\n",
        "\n",
        "  #Reduce x to [0,pi/4] if x is in [pi/4,pi/2]\n",
        "  if x >= np.pi/4 and x<= np.pi/2:\n",
        "    return sine(np.pi/2 - x)\n",
        "\n",
        "  cos = 1 - (x**2) +  (x**4)/24 - (x**6)/720\n",
        "  return cos\n",
        "\n",
        "def absoluteError(realValue, computedValue):\n",
        "  \"\"\"\n",
        "  Parameters\n",
        "  ----------\n",
        "    realValue, computedValue: float\n",
        "        values we want to compare\n",
        "\n",
        "  Returns\n",
        "  -------\n",
        "    error: float\n",
        "        difference between the real and the computed values\n",
        "  \"\"\"\n",
        "  error = abs(realValue-computedValue)\n",
        "  return error"
      ],
      "metadata": {
        "id": "pUJR0cITfYEY"
      },
      "execution_count": 11,
      "outputs": []
    },
    {
      "cell_type": "code",
      "source": [
        "#I check the error of my functions in comparison with numpy's for sines\n",
        "#and cosines in a range of intergers [-10,10]\n",
        "\n",
        "for i in range(-10,11):\n",
        "  print(\"sin(\",i,\") = \",sine(i))\n",
        "  print(\"Absolute error: \", absoluteError(np.sin(i),sine(i)))\n",
        "  print(\"cos(\",i,\") = \",cosine(i))\n",
        "  print(\"Absolute error: \", absoluteError(np.cos(i),cosine(i)))"
      ],
      "metadata": {
        "colab": {
          "base_uri": "https://localhost:8080/"
        },
        "id": "o7kpmQgglFuQ",
        "outputId": "1b9ce1f1-c4be-41a1-ebc4-62f25210e23b"
      },
      "execution_count": 12,
      "outputs": [
        {
          "output_type": "stream",
          "name": "stdout",
          "text": [
            "sin( -10 ) =  0.5440210919462692\n",
            "Absolute error:  1.8943100532631263e-08\n",
            "cos( -10 ) =  0.6736310356797518\n",
            "Absolute error:  1.5127025647562042\n",
            "sin( -9 ) =  -0.41211848400300927\n",
            "Absolute error:  1.238747326937073e-09\n",
            "cos( -9 ) =  -0.820912077670541\n",
            "Absolute error:  0.09021818421413597\n",
            "sin( -8 ) =  -0.9786975650098764\n",
            "Absolute error:  0.010660681613505418\n",
            "cos( -8 ) =  -0.14550003380853066\n",
            "Absolute error:  8.287814878826794e-14\n",
            "sin( -7 ) =  -0.6569864616708982\n",
            "Absolute error:  1.370478908135908e-07\n",
            "cos( -7 ) =  -0.49698888349328474\n",
            "Absolute error:  1.2508911378365895\n",
            "sin( -6 ) =  0.27941549816667366\n",
            "Absolute error:  3.225220090996572e-11\n",
            "cos( -6 ) =  0.9200733265243225\n",
            "Absolute error:  0.04009696012604347\n",
            "sin( -5 ) =  0.9175642242008815\n",
            "Absolute error:  0.04136005046225699\n",
            "cos( -5 ) =  0.2836621854261447\n",
            "Absolute error:  3.708156004478269e-11\n",
            "sin( -4 ) =  0.5030518296689871\n",
            "Absolute error:  0.2537506656389411\n",
            "cos( -4 ) =  0.6536434912382652\n",
            "Absolute error:  1.3072871121018772\n",
            "sin( -3 ) =  -0.14112000805980407\n",
            "Absolute error:  6.314393452555578e-14\n",
            "cos( -3 ) =  -0.9799682568211399\n",
            "Absolute error:  0.010024239779305555\n",
            "sin( -2 ) =  -0.8171895017757969\n",
            "Absolute error:  0.09210792504988485\n",
            "cos( -2 ) =  -0.4161468351873245\n",
            "Absolute error:  1.3598179249285636e-09\n",
            "sin( -1 ) =  -0.6785664830099168\n",
            "Absolute error:  0.16290450179797966\n",
            "cos( -1 ) =  -0.5403022881962927\n",
            "Absolute error:  1.0806045940644324\n",
            "sin( 0 ) =  0.0\n",
            "Absolute error:  0.0\n",
            "cos( 0 ) =  1.0\n",
            "Absolute error:  0.0\n",
            "sin( 1 ) =  0.6785664830099168\n",
            "Absolute error:  0.16290450179797966\n",
            "cos( 1 ) =  0.5403022881962927\n",
            "Absolute error:  1.7671847096778492e-08\n",
            "sin( 2 ) =  0.8171895017757969\n",
            "Absolute error:  0.09210792504988485\n",
            "cos( 2 ) =  0.4161468351873245\n",
            "Absolute error:  0.8322936717344669\n",
            "sin( 3 ) =  0.14112000805980407\n",
            "Absolute error:  6.314393452555578e-14\n",
            "cos( 3 ) =  0.9799682568211399\n",
            "Absolute error:  1.9699607534215853\n",
            "sin( 4 ) =  -0.5030518296689871\n",
            "Absolute error:  0.2537506656389411\n",
            "cos( 4 ) =  -0.6536434912382652\n",
            "Absolute error:  1.2962534678973014e-07\n",
            "sin( 5 ) =  -0.9175642242008815\n",
            "Absolute error:  0.04136005046225699\n",
            "cos( 5 ) =  -0.2836621854261447\n",
            "Absolute error:  0.5673243708893709\n",
            "sin( 6 ) =  -0.27941549816667366\n",
            "Absolute error:  3.225220090996572e-11\n",
            "cos( 6 ) =  -0.9200733265243225\n",
            "Absolute error:  1.8802436131746885\n",
            "sin( 7 ) =  0.6569864616708982\n",
            "Absolute error:  1.370478908135908e-07\n",
            "cos( 7 ) =  0.49698888349328474\n",
            "Absolute error:  0.25691337085001986\n",
            "sin( 8 ) =  0.9786975650098764\n",
            "Absolute error:  0.010660681613505418\n",
            "cos( 8 ) =  0.14550003380853066\n",
            "Absolute error:  0.2910000676171442\n",
            "sin( 9 ) =  0.41211848400300927\n",
            "Absolute error:  1.238747326937073e-09\n",
            "cos( 9 ) =  0.820912077670541\n",
            "Absolute error:  1.732042339555218\n",
            "sin( 10 ) =  -0.5440210919462692\n",
            "Absolute error:  1.8943100532631263e-08\n",
            "cos( 10 ) =  -0.6736310356797518\n",
            "Absolute error:  0.16544049339670064\n"
          ]
        }
      ]
    },
    {
      "cell_type": "markdown",
      "source": [
        "#**Root-finding methods**"
      ],
      "metadata": {
        "id": "XV6yFi6061tS"
      }
    },
    {
      "cell_type": "markdown",
      "source": [
        "##5.Plot the equation (x + 1)^3*e^x = 3 arctan(x) + 2 to show that it has one real solution in [−1, −0.5] and another real solution in [0, 0.5]."
      ],
      "metadata": {
        "id": "fKf_yS5U6-t9"
      }
    },
    {
      "cell_type": "code",
      "source": [
        "def f(x):\n",
        "  return ((x+1)**3)*(np.e**x)-3*np.arctan(x)-2"
      ],
      "metadata": {
        "id": "Ud9NI-PK7K4i"
      },
      "execution_count": 13,
      "outputs": []
    },
    {
      "cell_type": "code",
      "source": [
        "#Plot the funtions to see how there are two solutions to the equation\n",
        "a = -1\n",
        "b = 1\n",
        "subdivisions = 1000\n",
        "\n",
        "x = np.linspace(a,b,subdivisions)\n",
        "y = f(x)\n",
        "\n",
        "fig, ax = plt.subplots()\n",
        "ax.plot(x,y)\n",
        "ax.plot([a,b],[0,0])\n",
        "\n",
        "plt.show()"
      ],
      "metadata": {
        "colab": {
          "base_uri": "https://localhost:8080/",
          "height": 0
        },
        "id": "sBharqXk72iX",
        "outputId": "070a4fdf-4904-42f1-d421-e337593137e6"
      },
      "execution_count": 14,
      "outputs": [
        {
          "output_type": "display_data",
          "data": {
            "text/plain": [
              "<Figure size 640x480 with 1 Axes>"
            ],
            "image/png": "[encoded data removed]"
          },
          "metadata": {}
        }
      ]
    },
    {
      "cell_type": "markdown",
      "source": [
        "###a. Bisection on [-1,-0.5] and [0,0.5]"
      ],
      "metadata": {
        "id": "brtE5JO79-hy"
      }
    },
    {
      "cell_type": "code",
      "source": [
        "def bisection(f,a,b,error):\n",
        "  \"\"\"\n",
        "  Parameters\n",
        "  ----------\n",
        "    f: function\n",
        "        the function that represents our equation\n",
        "    a: float\n",
        "        left limit of the interval\n",
        "    b: float\n",
        "        rigth limit of the interval\n",
        "    error: float\n",
        "        maximum tolerable error\n",
        "\n",
        "  Returns\n",
        "  -------\n",
        "    solution: float\n",
        "        approximate solution to the equation\n",
        "  \"\"\"\n",
        "  if(b-a<2*error):\n",
        "    return (a+b)/2\n",
        "  if(f((a+b)/2)*f(a)<0): #minus times minus returns minus, so if the result of the product is negative, it means that the solution is between c and a\n",
        "    return bisection(f,a,(a+b)/2,error)\n",
        "  else:\n",
        "    return bisection(f,(a+b)/2,b,error)\n",
        "  return (a+b)/2"
      ],
      "metadata": {
        "id": "-eWSa2z19p1G"
      },
      "execution_count": 15,
      "outputs": []
    },
    {
      "cell_type": "code",
      "source": [
        "#in [-1,-0.5]\n",
        "solution1 = bisection(f,-1,-0.5,10**-8)\n",
        "print(\"x1 = \", solution1)\n",
        "\n",
        "#in [0,0.5]\n",
        "solution2 = bisection(f,0,0.5,10**-8)\n",
        "print(\"x2 = \", solution2)"
      ],
      "metadata": {
        "colab": {
          "base_uri": "https://localhost:8080/"
        },
        "id": "k7V1l5tv-5X9",
        "outputId": "f13f5b59-7d03-444f-f43b-fc5ec38dcf51"
      },
      "execution_count": 16,
      "outputs": [
        {
          "output_type": "stream",
          "name": "stdout",
          "text": [
            "x1 =  -0.7843764200806618\n",
            "x2 =  0.2867117151618004\n"
          ]
        }
      ]
    },
    {
      "cell_type": "markdown",
      "source": [
        "###b. Regula falsi on [-1,-0.5] and [0,0.5]"
      ],
      "metadata": {
        "id": "aQ1st3Y0_opn"
      }
    },
    {
      "cell_type": "code",
      "source": [
        "def regulaFalsi(f,a,b,tolerance):\n",
        "  \"\"\"\n",
        "  Parameters\n",
        "  ----------\n",
        "    f: function\n",
        "        the function that represents our equation\n",
        "    a: float\n",
        "        left limit of the interval\n",
        "    b: float\n",
        "        rigth limit of the interval\n",
        "    tolerance: float\n",
        "        minimum difference between consecutive approximations\n",
        "\n",
        "  Returns\n",
        "  -------\n",
        "    solution: float\n",
        "        approximate solution to the equation\n",
        "  \"\"\"\n",
        "  c = (a*f(b)-b*f(a))/(f(b)-f(a))\n",
        "  if b-c<tolerance or c-a<tolerance:\n",
        "    return c\n",
        "  if f(a)*f(c)>0:\n",
        "    return regulaFalsi(f,c,b,tolerance)\n",
        "  else:\n",
        "    return regulaFalsi(f,a,c,tolerance)"
      ],
      "metadata": {
        "id": "kYpYmrnl_42I"
      },
      "execution_count": 17,
      "outputs": []
    },
    {
      "cell_type": "code",
      "source": [
        "#in [-1,-0.5]\n",
        "solution1 = regulaFalsi(f,-1,-0.5,10**-4)\n",
        "print(\"x1 = \", solution1)\n",
        "\n",
        "#in [0,0.5]\n",
        "solution2 = regulaFalsi(f,0,0.5,10**-4)\n",
        "print(\"x2 = \", solution2)"
      ],
      "metadata": {
        "colab": {
          "base_uri": "https://localhost:8080/"
        },
        "id": "BbQNST5c_NBE",
        "outputId": "ea13a624-4c00-4b48-d486-3eefcf5082bf"
      },
      "execution_count": 18,
      "outputs": [
        {
          "output_type": "stream",
          "name": "stdout",
          "text": [
            "x1 =  -0.7843779749984261\n",
            "x2 =  0.28668093312404447\n"
          ]
        }
      ]
    },
    {
      "cell_type": "markdown",
      "source": [
        "###c. Newton-Ralphson with initial guesses x1 = -0.75 and x1 = 0.25"
      ],
      "metadata": {
        "id": "FNYjvO4kA6Pa"
      }
    },
    {
      "cell_type": "code",
      "source": [
        "def derivative(f,x):\n",
        "  h = 0.001\n",
        "  return (f(x+h)-f(x))/h"
      ],
      "metadata": {
        "id": "GkeI7v1wBWN5"
      },
      "execution_count": 19,
      "outputs": []
    },
    {
      "cell_type": "code",
      "source": [
        "def newtonRalphson(f,x,tolerance):\n",
        "  \"\"\"\n",
        "  Parameters\n",
        "  ----------\n",
        "    f: function\n",
        "        the function that represents our equation\n",
        "    x: float\n",
        "        initial guess\n",
        "    tolerance: float\n",
        "        minimum difference between consecutive approximations\n",
        "\n",
        "  Returns\n",
        "  -------\n",
        "    x: float\n",
        "        approximate solution to the equation\n",
        "  \"\"\"\n",
        "  while True:\n",
        "    xnew = x - f(x)/derivative(f,x)\n",
        "    if(math.fabs(x - xnew) < tolerance):\n",
        "      x = xnew\n",
        "      break\n",
        "    x = xnew\n",
        "  return x"
      ],
      "metadata": {
        "id": "a4-woxuVBlKQ"
      },
      "execution_count": 20,
      "outputs": []
    },
    {
      "cell_type": "code",
      "source": [
        "#For an initial guess x1=-0.75\n",
        "solution1 = newtonRalphson(f,-0.75,10**-4)\n",
        "print(\"x1 = \", solution1)\n",
        "\n",
        "#For an initial guess x1=0.25\n",
        "solution2 = newtonRalphson(f,25,10**-4)\n",
        "print(\"x2 = \", solution2)"
      ],
      "metadata": {
        "colab": {
          "base_uri": "https://localhost:8080/"
        },
        "id": "WvH_PCXHAIgD",
        "outputId": "e02a0fe0-f012-402c-a7e3-c9907cfde7f9"
      },
      "execution_count": 21,
      "outputs": [
        {
          "output_type": "stream",
          "name": "stdout",
          "text": [
            "x1 =  -0.7843764177451137\n",
            "x2 =  0.2867117135633367\n"
          ]
        }
      ]
    },
    {
      "cell_type": "markdown",
      "source": [
        "###d. Transforming the equation into fixed-point equations"
      ],
      "metadata": {
        "id": "Q_VkVQJXCoeY"
      }
    },
    {
      "cell_type": "code",
      "source": [
        "#These two functions are the result of isolating x in the original function\n",
        "\n",
        "#This one makes use of the property tan(arctan(x))=x\n",
        "def g1(x):\n",
        "  return np.tan(((x+1)**3*np.e**x-2)/3)\n",
        "\n",
        "def g2(x):\n",
        "  return (((3*np.arctan(x)+2)/(np.e**x))-x**3 - 3*x**2 -1)/3"
      ],
      "metadata": {
        "id": "FfrwGT8RFAzZ"
      },
      "execution_count": 22,
      "outputs": []
    },
    {
      "cell_type": "code",
      "source": [
        "def iteration(f,x,tolerance):\n",
        "  \"\"\"\n",
        "  Parameters\n",
        "  ----------\n",
        "    f: function\n",
        "        the function that represents our equation\n",
        "    x: float\n",
        "        initial guess\n",
        "    tolerance: float\n",
        "        minimum difference between consecutive approximations\n",
        "\n",
        "  Returns\n",
        "  -------\n",
        "    x: float\n",
        "        approximate solution to the equation\n",
        "  \"\"\"\n",
        "  xnew = f(x)\n",
        "  while(abs(x-xnew)>tolerance):\n",
        "    x = xnew\n",
        "    xnew = f(x)\n",
        "  return xnew"
      ],
      "metadata": {
        "id": "Yqh4phq1GqLO"
      },
      "execution_count": 23,
      "outputs": []
    },
    {
      "cell_type": "code",
      "source": [
        "#For an initial guess x1=-1\n",
        "solution1 = iteration(g1,-0.784,10**-4)\n",
        "print(\"x1 = \", solution1)\n",
        "\n",
        "#For an initial guess x1=0.25\n",
        "solution2 = iteration(g2,0.25,10**-4)\n",
        "print(\"x2 = \", solution2)"
      ],
      "metadata": {
        "colab": {
          "base_uri": "https://localhost:8080/"
        },
        "id": "nBIYLEypHZPU",
        "outputId": "570574e3-a2e6-453f-d628-c6810b110474"
      },
      "execution_count": 24,
      "outputs": [
        {
          "output_type": "stream",
          "name": "stdout",
          "text": [
            "x1 =  -0.7843759086726302\n",
            "x2 =  0.2867513577569179\n"
          ]
        }
      ]
    },
    {
      "cell_type": "markdown",
      "source": [
        "##6.A cannon is located in space at the origin (0,0,0) and throws a ball that follow a parabolic trajectory (t,2t,5t-t^2), where t represents time in secondss (the ball is thrown at time t = 0). If the land is modeled by the surface z = 5 sin(x/5) sin(y/6),give the approximate point where the cannonball hits the land again."
      ],
      "metadata": {
        "id": "dtGsFMGdVv9q"
      }
    },
    {
      "cell_type": "code",
      "source": [
        "def cannonBallPos(t):\n",
        "  return [t,2*t,5*t-t**2]\n",
        "\n",
        "def terrain(x,y):\n",
        "  return 5*np.sin(x/5)*np.sin(y/6)"
      ],
      "metadata": {
        "id": "rZpPYsiPHc3O"
      },
      "execution_count": 25,
      "outputs": []
    },
    {
      "cell_type": "code",
      "source": [
        "#Assuming the data is given in the following format: (x,y,z) and z is the height\n",
        "#The z coordiante of the cannonball is described by the expression 5t-t**2, and\n",
        "#the height of the terrain like so:= 5sin(x/5)sin(y/6).\n",
        "#If we substitute x and y by the x and y coordinates of the cannonball trajectory\n",
        "#(x = t and y = 2t), we get the following equation: 5t-t^2=5sin(t/5)sin(2t/6);\n",
        "#which we can transform into: 5t-t^2-5sin(t/5)sin(2t/6) = 0. This will be our f(t)\n",
        "\n",
        "#The solution of this problem will be given by the roots of this polynomial, to\n",
        "#calculate them, I will use bisection with an error of 10^-8\n",
        "def f(t):\n",
        "  return 5*t-t**2-5*np.sin(t/5)*np.sin(2*t/6)\n",
        "\n",
        "a=0\n",
        "b=5\n",
        "error = 10**-8\n",
        "t = bisection(f,a,b,error)\n",
        "print(\"The ball will hit the ground when t=\",t)\n",
        "impactCoordinates = cannonBallPos(t)\n",
        "print(\"The approximate point of impact is:\", impactCoordinates)"
      ],
      "metadata": {
        "colab": {
          "base_uri": "https://localhost:8080/"
        },
        "id": "3V33X2mFLQ__",
        "outputId": "4c535bba-9768-4bc9-f9f9-89a9586de1f6"
      },
      "execution_count": 26,
      "outputs": [
        {
          "output_type": "stream",
          "name": "stdout",
          "text": [
            "The ball will hit the ground when t= 4.126639189198613\n",
            "The approximate point of impact is: [4.126639189198613, 8.253278378397226, 3.6040449481632777]\n"
          ]
        }
      ]
    },
    {
      "cell_type": "markdown",
      "source": [
        "Side note: I was a bit curious of how the solution looked like, so I opened Wolfram Mathematica and plotted all the data, here's what I got:\n",
        "\n",
        "<image src=\"https://i.imgur.com/FKsXO5t.png\" width=45%>\n",
        "\n"
      ],
      "metadata": {
        "id": "-RciZqykS3TB"
      }
    },
    {
      "cell_type": "markdown",
      "source": [
        "The cannon is represented by the blue dot and the impact by the red one. The parabola that links them is the trajectory the cannonball follows.\n",
        "\n",
        "The code used was:\n",
        "\n",
        "```\n",
        "Show[\n",
        "  Graphics3D[{Red, PointSize[0.05],Point[{4.126639189198613, 8.253278378397226,3.6040449481632777}]}],\n",
        "  Graphics3D[{Blue, PointSize[0.05], Point[{0, 0, 0}]}],\n",
        "  Plot3D[5 Sin[x/5] Sin[y/6], {x, -10, 10}, {y, -10, 10}],\n",
        "  ParametricPlot3D[{t, 2 t, 5 t - t^2}, {t, 0, 5}]\n",
        "]\n",
        "```\n"
      ],
      "metadata": {
        "id": "nJyyh7GQaQkS"
      }
    },
    {
      "cell_type": "markdown",
      "source": [
        "##7.We want to write a function that computes all real roots of a cubic equation p(x) = ax3 + bx2 + cx + d = 0 with a ̸= 0"
      ],
      "metadata": {
        "id": "OmJPWY06Ybu0"
      }
    },
    {
      "cell_type": "code",
      "source": [
        "def cubicEquation(b,c,d,x):\n",
        "  #we assume that a = 1\n",
        "  return x**3 + b*x**2 + c*x + d"
      ],
      "metadata": {
        "id": "Gm6X4FsQvEqn"
      },
      "execution_count": 27,
      "outputs": []
    },
    {
      "cell_type": "code",
      "source": [
        "def bisectionForCuadratic(f,left,right,error,b,c,d):\n",
        "  \"\"\"\n",
        "  Parameters\n",
        "  ----------\n",
        "    f: function\n",
        "        the function that represents our equation\n",
        "    left: float\n",
        "        left limit of the interval\n",
        "    right: float\n",
        "        rigth limit of the interval\n",
        "    error: float\n",
        "        maximum tolerable error\n",
        "\n",
        "  Returns\n",
        "  -------\n",
        "    solution: float\n",
        "        approximate solution to the equation\n",
        "  \"\"\"\n",
        "  if left == \"Nan\" or right == \"Nan\":\n",
        "    return \"Nan\"\n",
        "  if(right-left<2*error):\n",
        "    return (left+right)/2\n",
        "  if(f(b,c,d,(left+right)/2)*f(b,c,d,left)<0):\n",
        "    return bisectionForCuadratic(f,left,(left+right)/2,error,b,c,d)\n",
        "  else:\n",
        "    return bisectionForCuadratic(f,(left+right)/2,right,error,b,c,d)\n",
        "  return (left+right)/2\n",
        "\n",
        "def maxOfThree(a,b,c):\n",
        "  \"\"\"\n",
        "  Parameters\n",
        "  ----------\n",
        "    a: number\n",
        "    b: number\n",
        "    c: number\n",
        "\n",
        "  Returns\n",
        "  -------\n",
        "    x: number\n",
        "        the maximum number in {a,b,c}\n",
        "  \"\"\"\n",
        "  if (a > b and a > c): return a\n",
        "  elif (b > a and b > c): return b\n",
        "  elif (c > a and c > b): return c\n",
        "\n",
        "def quadratic(a,b,c):\n",
        "  \"\"\"\n",
        "  Parameters\n",
        "  ----------\n",
        "    a: number\n",
        "    b: number\n",
        "    c: number\n",
        "\n",
        "  Returns\n",
        "  -------\n",
        "    x1,x2: array\n",
        "        the two solutions of the quadratic equation ax^2 + bx + c = 0\n",
        "  \"\"\"\n",
        "  root = b**2-4*a*c\n",
        "  if(root>=0):\n",
        "    return (-b+np.sqrt(root))/(2*a), (-b-np.sqrt(root))/(2*a)\n",
        "  return \"Nan\", \"Nan\"\n",
        "\n",
        "def sortList(listIn):\n",
        "  \"\"\"\n",
        "  Parameters\n",
        "  ----------\n",
        "    listIn: array\n",
        "        list we want sorted\n",
        "\n",
        "  Returns\n",
        "  -------\n",
        "    listIn: array\n",
        "        ordered list\n",
        "  \"\"\"\n",
        "\n",
        "  nanCount = 0\n",
        "  for i in range(1,len(listIn)):\n",
        "    for j in range(i,len(listIn)):\n",
        "      if listIn[j-1] == \"Nan\" and listIn[j] != \"Nan\":\n",
        "        listIn[j-nanCount] = \"Nan\";\n",
        "        listIn[j-1] = listIn[j]\n",
        "        nanCount+=1\n",
        "      elif listIn[j-1] != \"Nan\" and listIn[j] == \"Nan\":\n",
        "        nanCount = nanCount\n",
        "      elif listIn[j-1]>listIn[j]:\n",
        "        aux = listIn[j-1];\n",
        "        listIn[j-1] = listIn[j]\n",
        "        listIn[j] = aux\n",
        "  return listIn"
      ],
      "metadata": {
        "id": "D-AwY_yIYehj"
      },
      "execution_count": 167,
      "outputs": []
    },
    {
      "cell_type": "code",
      "source": [
        "b,c,d = -6,11,-6\n",
        "\n",
        "error = 10**-8 # we will stimate the solutions with an error of 10^-8\n",
        "\n",
        "#There is a result of Cauchy that all roots of p(x) = x^3 + bx^2 + cx + d lie in the interval [−M −1, M + 1], where M is the maximum of b, c and d.\n",
        "M = maxOfThree(b,c,d)\n",
        "\n",
        "#In between two zeros of p(x) there is a zero of the derivative p′(x) = 3x^2 + 2bx + c.\n",
        "#The derivative is a quadratic equation, so it's zeros are given by the quadratic formula.\n",
        "x1,x2 = quadratic(3,2*b,c)\n",
        "\n",
        "#if(x1 != \"Nan\"):\n",
        "maxima = sortList([-M-1,M+1,x1,x2])\n",
        "print(maxima)\n",
        "root1 = bisectionForCuadratic(cubicEquation,maxima[0],maxima[1],error,b,c,d)\n",
        "root2 = bisectionForCuadratic(cubicEquation,maxima[1],maxima[2],error,b,c,d)\n",
        "root3 = bisectionForCuadratic(cubicEquation,maxima[2],maxima[3],error,b,c,d)\n",
        "\n",
        "print(\"The solutions to the equation are: \")\n",
        "print(\"x1 =\", root1)\n",
        "print(\"x2 =\", root2)\n",
        "print(\"x3 =\", root3)\n",
        "#else:\n",
        "#  maxima = sortList([-M-1,M+1])\n",
        "#  root = bisectionForCuadratic(cubicEquation,maxima[0],maxima[1],error,b,c,d)\n",
        "#  print(\"The solution to the equation is: \")\n",
        "#  print(\"x =\", root)\n",
        "\n",
        "\n",
        "fig,ax = plt.subplots()\n",
        "\n",
        "x = np.linspace(0,4,100)\n",
        "y = cubicEquation(b,c,d,x)\n",
        "ax.plot(x,y)\n",
        "ax.plot([0,4],[0,0])\n",
        "ax.scatter([root1,root2,root3],[cubicEquation(b,c,d,root1),cubicEquation(b,c,d,root2),cubicEquation(b,c,d,root3)])\n",
        "\n",
        "plt.show()"
      ],
      "metadata": {
        "colab": {
          "base_uri": "https://localhost:8080/",
          "height": 517
        },
        "id": "saKra-MPvdbH",
        "outputId": "fee5cf84-21b7-4a42-b623-adb440dd0e21"
      },
      "execution_count": 179,
      "outputs": [
        {
          "output_type": "stream",
          "name": "stdout",
          "text": [
            "[-12, 1.4226497308103745, 2.5773502691896257, 12]\n",
            "The solutions to the equation are: \n",
            "x1 = 0.99999999943702\n",
            "x2 = 2.577350260586436\n",
            "x3 = 3.0000000064985004\n"
          ]
        },
        {
          "output_type": "display_data",
          "data": {
            "text/plain": [
              "<Figure size 640x480 with 1 Axes>"
            ],
            "image/png": "[encoded data removed]"
          },
          "metadata": {}
        }
      ]
    },
    {
      "cell_type": "markdown",
      "source": [
        "##8.Plot the function f(x)=(x*log(x))/(x^2+1) to check that it has an absolute minimum and an absolute maximum. Find them in two ways:"
      ],
      "metadata": {
        "id": "-9qSeVNWZBo5"
      }
    },
    {
      "cell_type": "code",
      "source": [
        "def f(x):\n",
        "  return (x*np.log(x))/(x**2+1)"
      ],
      "metadata": {
        "id": "dLz087omZlMj"
      },
      "execution_count": 30,
      "outputs": []
    },
    {
      "cell_type": "code",
      "source": [
        "#Plot the funtion\n",
        "a = 0.1\n",
        "b = 10\n",
        "subdivisions = 10000\n",
        "\n",
        "x = np.linspace(a,b,subdivisions)\n",
        "y = f(x)\n",
        "\n",
        "fig, ax = plt.subplots()\n",
        "ax.plot(x,y)\n",
        "\n",
        "plt.show()"
      ],
      "metadata": {
        "id": "ByQYofOEZsk3",
        "colab": {
          "base_uri": "https://localhost:8080/",
          "height": 0
        },
        "outputId": "8acca62a-07ad-42bb-9557-b3404c42a2e5"
      },
      "execution_count": 31,
      "outputs": [
        {
          "output_type": "display_data",
          "data": {
            "text/plain": [
              "<Figure size 640x480 with 1 Axes>"
            ],
            "image/png": "[encoded data removed]"
          },
          "metadata": {}
        }
      ]
    },
    {
      "cell_type": "markdown",
      "source": [
        "###a.  By means of the trisection method within an error of 10^−7"
      ],
      "metadata": {
        "id": "YU6Fr5zWZMmq"
      }
    },
    {
      "cell_type": "code",
      "source": [
        "def trisectionMinimum(f,a,b,error):\n",
        "  \"\"\"\n",
        "  Parameters\n",
        "  ----------\n",
        "    f: function\n",
        "        the function that represents our equation\n",
        "    a: float\n",
        "        left limit of the interval\n",
        "    b: float\n",
        "        rigth limit of the interval\n",
        "    error: float\n",
        "        maximum tolerable error\n",
        "\n",
        "  Returns\n",
        "  -------\n",
        "    x: float\n",
        "        approximate position of the minimum\n",
        "  \"\"\"\n",
        "  if(b-a)<2*error:\n",
        "    return(a+b)/2 #Return the midpoint\n",
        "\n",
        "  c1=(2*a+b)/3\n",
        "  c2=(a+2*b)/3\n",
        "\n",
        "  if f(c1) < f(c2):\n",
        "    return trisectionMinimum(f,a,c2,error)\n",
        "  else:\n",
        "    return trisectionMinimum(f,c1,b,error)\n",
        "\n",
        "def trisectionMaximum(f,a,b,error):\n",
        "  \"\"\"\n",
        "  Parameters\n",
        "  ----------\n",
        "    f: function\n",
        "        the function that represents our equation\n",
        "    a: float\n",
        "        left limit of the interval\n",
        "    b: float\n",
        "        rigth limit of the interval\n",
        "    error: float\n",
        "        maximum tolerable error\n",
        "\n",
        "  Returns\n",
        "  -------\n",
        "    x: float\n",
        "        approximate position of the maximum\n",
        "  \"\"\"\n",
        "  if(b-a)<2*error:\n",
        "    return(a+b)/2 #Return the midpoint\n",
        "\n",
        "  c1=(2*a+b)/3\n",
        "  c2=(a+2*b)/3\n",
        "\n",
        "  if f(c1) > f(c2):\n",
        "    return trisectionMaximum(f,a,c2,error)\n",
        "  else:\n",
        "    return trisectionMaximum(f,c1,b,error)"
      ],
      "metadata": {
        "id": "MTKwoX1IZRvX"
      },
      "execution_count": 32,
      "outputs": []
    },
    {
      "cell_type": "code",
      "source": [
        "error = 10**-7\n",
        "print(\"The absolte minimum is in x=\", trisectionMinimum(f,0.01,0.5,error))\n",
        "print(\"The absolte maximum is in x=\", trisectionMaximum(f,0.5,5,error))"
      ],
      "metadata": {
        "id": "lyKBn-WWaXB_",
        "colab": {
          "base_uri": "https://localhost:8080/"
        },
        "outputId": "82730646-0578-4c99-857c-3e9318c1a180"
      },
      "execution_count": 33,
      "outputs": [
        {
          "output_type": "stream",
          "name": "stdout",
          "text": [
            "The absolte minimum is in x= 0.30129102242987216\n",
            "The absolte maximum is in x= 3.3190501229836533\n"
          ]
        }
      ]
    },
    {
      "cell_type": "markdown",
      "source": [
        "###b. By gradient descent for suitable values of the parameter and the initial point"
      ],
      "metadata": {
        "id": "ZNG6q4C9a3Rq"
      }
    },
    {
      "cell_type": "code",
      "source": [
        "def derivative(f,x):\n",
        "  h=0.001\n",
        "  return (f(x+h)-f(x))/h"
      ],
      "metadata": {
        "id": "k11izppQa9ue"
      },
      "execution_count": 34,
      "outputs": []
    },
    {
      "cell_type": "code",
      "source": [
        "def gradientDescentMinimum(f,x,a,tolerance):\n",
        "  \"\"\"\n",
        "  Parameters\n",
        "  ----------\n",
        "    f: function\n",
        "        the function that represents our equation\n",
        "    x: float\n",
        "        initial guess\n",
        "    a: float\n",
        "        parameter\n",
        "    tolerance: float\n",
        "        minimum difference between consecutive approximations\n",
        "\n",
        "  Returns\n",
        "  -------\n",
        "    xnew: float\n",
        "        approximate position of the minimum\n",
        "  \"\"\"\n",
        "  while True:\n",
        "    xnew = x-a*derivative(f,x)\n",
        "    if(abs(x-xnew) < tolerance):\n",
        "      x=xnew\n",
        "      break\n",
        "    x=xnew\n",
        "  return xnew\n",
        "\n",
        "def gradientDescentMaximum(f,x,a,tolerance):\n",
        "  \"\"\"\n",
        "  Parameters\n",
        "  ----------\n",
        "    f: function\n",
        "        the function that represents our equation\n",
        "    x: float\n",
        "        initial guess\n",
        "    a: float\n",
        "        parameter\n",
        "    tolerance: float\n",
        "        minimum difference between consecutive approximations\n",
        "\n",
        "  Returns\n",
        "  -------\n",
        "    xnew: float\n",
        "        approximate position of the maximum\n",
        "  \"\"\"\n",
        "  while True:\n",
        "    xnew = x+a*derivative(f,x)\n",
        "    if(abs(x-xnew) < tolerance):\n",
        "      x=xnew\n",
        "      break\n",
        "    x=xnew\n",
        "  return xnew"
      ],
      "metadata": {
        "id": "dhDcnkhNbI5C"
      },
      "execution_count": 35,
      "outputs": []
    },
    {
      "cell_type": "code",
      "source": [
        "a = 0.025\n",
        "tolerance = 10**-7\n",
        "\n",
        "print(\"The absolte minimum is in x=\", gradientDescentMinimum(f,0.05,a,tolerance))\n",
        "print(\"The absolte maximum is in x=\", gradientDescentMaximum(f,2,a,tolerance))"
      ],
      "metadata": {
        "id": "OnLyPc3fbkOR",
        "colab": {
          "base_uri": "https://localhost:8080/"
        },
        "outputId": "bf42122c-0775-42c9-d7e8-2dd89f162e34"
      },
      "execution_count": 36,
      "outputs": [
        {
          "output_type": "stream",
          "name": "stdout",
          "text": [
            "The absolte minimum is in x= 0.30079022771968134\n",
            "The absolte maximum is in x= 3.318417365975583\n"
          ]
        }
      ]
    },
    {
      "cell_type": "markdown",
      "source": [
        "##9.The function f(x, y) = x^3 + y^3 − 3xy + 3x − 3y has a local minimum. Find a better approximation to the exact value by the gradient descent method starting at the close point (0.4, 1.2) with an appropriate parameter. Stop when two consecutive approximations are at distance less than 10^−5"
      ],
      "metadata": {
        "id": "sHwPDaGCeY1e"
      }
    },
    {
      "cell_type": "code",
      "source": [
        "def f(x,y):\n",
        "  return x**3 + y**3 - 3*x*y + 3*x - 3*y\n",
        "\n",
        "def gradient(f,x,y):\n",
        "  h=0.001\n",
        "  px=(f(x+h,y)-f(x,y))/h\n",
        "  py=(f(x,y+h)-f(x,y))/h\n",
        "  return [px,py]"
      ],
      "metadata": {
        "id": "X-rscWVwerIN"
      },
      "execution_count": 37,
      "outputs": []
    },
    {
      "cell_type": "code",
      "source": [
        "def gradientDescentMinimum2Variable(f,x,y,a,tolerance):\n",
        "  \"\"\"\n",
        "  Parameters\n",
        "  ----------\n",
        "    f: function\n",
        "        the function that represents our equation\n",
        "    x: float\n",
        "        initial guess x\n",
        "    y: float\n",
        "        initial guess y\n",
        "    a: float\n",
        "        parameter\n",
        "    tolerance: float\n",
        "        minimum difference between consecutive approximations\n",
        "\n",
        "  Returns\n",
        "  -------\n",
        "    p: array\n",
        "        approximate position of the minimum\n",
        "  \"\"\"\n",
        "  while True:\n",
        "    xnew = x-a*gradient(f,x,y)[0]\n",
        "    ynew = y-a*gradient(f,x,y)[1]\n",
        "    if (((x-xnew)**2+(y-ynew)**2)**(1/2)<tolerance):\n",
        "      x = xnew\n",
        "      y = ynew\n",
        "      break\n",
        "    x = xnew\n",
        "    y = ynew\n",
        "  return [x,y]"
      ],
      "metadata": {
        "id": "1NIGchXbe3Ho"
      },
      "execution_count": 38,
      "outputs": []
    },
    {
      "cell_type": "code",
      "source": [
        "point = [0.4,1.2]\n",
        "a = 0.22\n",
        "tolerance = 10**-5\n",
        "\n",
        "print(\"The approximate position of the minimum is: \", gradientDescentMinimum2Variable(f,point[0],point[1],a,tolerance))"
      ],
      "metadata": {
        "id": "i_Jod4UbffwI",
        "colab": {
          "base_uri": "https://localhost:8080/"
        },
        "outputId": "1eaa9009-b24e-4865-aaab-c842df01fff3"
      },
      "execution_count": 39,
      "outputs": [
        {
          "output_type": "stream",
          "name": "stdout",
          "text": [
            "The approximate position of the minimum is:  [0.4514530732793617, 1.2042674000949372]\n"
          ]
        }
      ]
    },
    {
      "cell_type": "markdown",
      "source": [
        "#**Interpolation and approximation**"
      ],
      "metadata": {
        "id": "wgeUJlvJNIm-"
      }
    },
    {
      "cell_type": "markdown",
      "source": [
        "##10. We have a program that reads the entries of a database and looks for consistence errors. The program takes 8 hours to complete the task. However, after three hours running, we decide to check how many inconsistencies have been found. To this end, we keep track of the number of inconsistencies every half an hour:<br>![image.png](data:image/png;base64,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)<br>We would like to estimate how many inconsistencies were found during the first hour (too bad we didn’t start our statistics earlier!). Give the approximate solution to this question by each of the following methods:"
      ],
      "metadata": {
        "id": "OeYR4tpDNSnB"
      }
    },
    {
      "cell_type": "code",
      "source": [
        "time = [3,3.5,4,4.5,5,5.5,6,6.5,7,7.5,8]\n",
        "issues= [344,412,478,572,638,699,801,861,907,988,1045]"
      ],
      "metadata": {
        "id": "y3iXkC2VTQPe"
      },
      "execution_count": 40,
      "outputs": []
    },
    {
      "cell_type": "markdown",
      "source": [
        "###a)by the interpolating polynomial"
      ],
      "metadata": {
        "id": "HHVFFAjeN_OS"
      }
    },
    {
      "cell_type": "code",
      "source": [
        "def dividedDifferencesForNewton(x,y):\n",
        "  '''\n",
        "  Parameters\n",
        "  ----------\n",
        "    x:float array\n",
        "        x coordinates of the points\n",
        "    y:float array\n",
        "        y coordinates of the points\n",
        "  Returns\n",
        "  -------\n",
        "    L: matrix\n",
        "        first elements of each row of the table of divided differences\n",
        "  '''\n",
        "  L=[y]\n",
        "  n = len(x) #n: number of points (x,y)\n",
        "\n",
        "  #computing the matrix that contains the table\n",
        "  for i in range(1,n):\n",
        "    row = []\n",
        "    for j in range(n-i):\n",
        "      row.append((L[i-1][j]-L[i-1][j+1])/(x[j]-x[j+i]))\n",
        "    L.append(row)\n",
        "\n",
        "  return [row[0] for row in L]\n",
        "\n",
        "#Newton's interpolation is quicker than Lagrange's Interpolation, although the result is the same\n",
        "#Another benefict of this approach is that we can add new elements, the only new computation we have to do is add a new diagonal to the divided differences\n",
        "def newtonInterpolation(t,x,y):\n",
        "  '''\n",
        "  Parameters\n",
        "  ----------\n",
        "    t: float\n",
        "        variable\n",
        "    x:float array\n",
        "        x coordinates of the points\n",
        "    y:float array\n",
        "        y coordinates of the points\n",
        "  Returns\n",
        "  -------\n",
        "    result: float\n",
        "      p(t)\n",
        "  '''\n",
        "  dd = dividedDifferencesForNewton(x,y)\n",
        "  n = len(x)\n",
        "\n",
        "  #these two lines are the first summand of p(t)\n",
        "  result = dd[0]\n",
        "  product = 1 #product of factors\n",
        "\n",
        "\n",
        "  for i in range(1,n): #n iterarions\n",
        "    product *= t-x[i-1]\n",
        "    result += dd[i]*product\n",
        "  return result"
      ],
      "metadata": {
        "id": "RZLobC-VOFEW"
      },
      "execution_count": 41,
      "outputs": []
    },
    {
      "cell_type": "code",
      "source": [
        "t = 1\n",
        "\n",
        "def p(t):\n",
        "  return newtonInterpolation(t,time,issues);\n",
        "\n",
        "print(p(t))\n",
        "\n",
        "t=np.linspace(time[0],time[len(time)-1],200)\n",
        "fig, ax = plt.subplots()\n",
        "ax.scatter(time,issues)\n",
        "ax.plot(t,p(t))\n",
        "\n",
        "plt.show()"
      ],
      "metadata": {
        "colab": {
          "base_uri": "https://localhost:8080/",
          "height": 0
        },
        "id": "h9YFbygLOV_X",
        "outputId": "577b7a29-6be9-47ca-c9ac-0e33f5ced97d"
      },
      "execution_count": 42,
      "outputs": [
        {
          "output_type": "stream",
          "name": "stdout",
          "text": [
            "1445249.0\n"
          ]
        },
        {
          "output_type": "display_data",
          "data": {
            "text/plain": [
              "<Figure size 640x480 with 1 Axes>"
            ],
            "image/png": "[encoded data removed]"
          },
          "metadata": {}
        }
      ]
    },
    {
      "cell_type": "markdown",
      "source": [
        "###b)by the straight line that best fits these points (using least-squares)."
      ],
      "metadata": {
        "id": "zGaLxjfU0ZsI"
      }
    },
    {
      "cell_type": "code",
      "source": [
        "def innerProduct(f,g,x):\n",
        "  '''\n",
        "  Parameters\n",
        "  ----------\n",
        "    f : function\n",
        "    g : function\n",
        "    x:array\n",
        "        data of the point mesh\n",
        "  Returns\n",
        "  -------\n",
        "    sum: float\n",
        "        inner product of the two functions\n",
        "  '''\n",
        "  sum = 0\n",
        "  for i in range(len(x)):\n",
        "    sum += f(x[i])*g(x[i])\n",
        "  return sum\n",
        "\n",
        "def generatorMatrices(degree,data,f):\n",
        "  '''\n",
        "  Parameters\n",
        "  ----------\n",
        "    degree : integer\n",
        "        degree of the polynomial we are trying to calculate\n",
        "    data:array\n",
        "        data of the point mesh\n",
        "    f: function\n",
        "\n",
        "  Returns\n",
        "  -------\n",
        "    a,b: arrays\n",
        "        a and b matrices of generators and solutions\n",
        "  '''\n",
        "\n",
        "  a = [[innerProduct(lambda x: x**i,lambda x: x**j,data) for j in range(degree+1)] for i in range(degree+1)]\n",
        "  b = [innerProduct(lambda x: x**i,f,data) for i in range(degree+1)]\n",
        "  return a,b\n",
        "\n",
        "def leastSquareApproximation(a,b,f,x):\n",
        "  '''\n",
        "  Parameters\n",
        "  ----------\n",
        "    a : array\n",
        "    b : array\n",
        "        both a and b are the generator matrices\n",
        "    f: function\n",
        "    x: float\n",
        "        point of evaluation of the approximation\n",
        "\n",
        "  Returns\n",
        "  -------\n",
        "    approximation: float\n",
        "        approximation to the function by the least-square method\n",
        "  '''\n",
        "  sol = np.linalg.solve(a,b)\n",
        "  return sum([sol[i]*(lambda x: x**i)(x) for i in range(0,len(sol))])"
      ],
      "metadata": {
        "id": "1jkWDqxi1Mpf"
      },
      "execution_count": 43,
      "outputs": []
    },
    {
      "cell_type": "code",
      "source": [
        "#We want to approximate this mesh of points with a straigth line\n",
        "x = np.linspace(3,8,11)\n",
        "fig, ax = plt.subplots()\n",
        "ax.scatter(time,issues)\n",
        "\n",
        "#This will be the function we use for inner product calculations\n",
        "def f(x):\n",
        "  for i in range(len(time)):\n",
        "    if x == time[i]:\n",
        "      return issues[i]\n",
        "  return 0\n",
        "\n",
        "#This means aλ = b\n",
        "a,b = generatorMatrices(1,time,f)\n",
        "\n",
        "y = leastSquareApproximation(a,b,f,x)\n",
        "ax.plot(x,y)\n",
        "\n",
        "plt.show()\n",
        "\n",
        "print(leastSquareApproximation(a,b,f,1))"
      ],
      "metadata": {
        "colab": {
          "base_uri": "https://localhost:8080/",
          "height": 447
        },
        "id": "aMZ788XZ0glI",
        "outputId": "ee9289b7-81ba-43cc-92ac-4ac2cf54a7b1"
      },
      "execution_count": 44,
      "outputs": [
        {
          "output_type": "display_data",
          "data": {
            "text/plain": [
              "<Figure size 640x480 with 1 Axes>"
            ],
            "image/png": "[encoded data removed]"
          },
          "metadata": {}
        },
        {
          "output_type": "stream",
          "name": "stdout",
          "text": [
            "62.88181818181769\n"
          ]
        }
      ]
    },
    {
      "cell_type": "markdown",
      "source": [
        "###c)by the parabola that best fits these points (using least-squares)."
      ],
      "metadata": {
        "id": "96poWMFX5m-d"
      }
    },
    {
      "cell_type": "code",
      "source": [
        "#We want to approximate this mesh of points with a straigth line\n",
        "x = np.linspace(3,8,11)\n",
        "fig, ax = plt.subplots()\n",
        "ax.scatter(time,issues)\n",
        "\n",
        "#This will be the function we use for inner product calculations\n",
        "def f(x):\n",
        "  for i in range(len(time)):\n",
        "    if x == time[i]:\n",
        "      return issues[i]\n",
        "  return 0\n",
        "\n",
        "#This means aλ = b\n",
        "a,b = generatorMatrices(2,time,f)\n",
        "\n",
        "y = leastSquareApproximation(a,b,f,x)\n",
        "ax.plot(x,y)\n",
        "\n",
        "plt.show()\n",
        "\n",
        "print(leastSquareApproximation(a,b,f,1))"
      ],
      "metadata": {
        "colab": {
          "base_uri": "https://localhost:8080/",
          "height": 447
        },
        "id": "5KYCVOu-5qcv",
        "outputId": "6743d5b0-9694-4a52-c461-d57e132ab394"
      },
      "execution_count": 45,
      "outputs": [
        {
          "output_type": "display_data",
          "data": {
            "text/plain": [
              "<Figure size 640x480 with 1 Axes>"
            ],
            "image/png": "[encoded data removed]"
          },
          "metadata": {}
        },
        {
          "output_type": "stream",
          "name": "stdout",
          "text": [
            "5.8666666666695\n"
          ]
        }
      ]
    },
    {
      "cell_type": "markdown",
      "source": [
        "###d)By the cubic polynomial that best fits these points(using least-squares"
      ],
      "metadata": {
        "id": "NTTLuev_sLRg"
      }
    },
    {
      "cell_type": "code",
      "source": [
        "#We want to approximate this mesh of points with a straigth line\n",
        "x = np.linspace(3,8,11)\n",
        "fig, ax = plt.subplots()\n",
        "ax.scatter(time,issues)\n",
        "\n",
        "#This will be the function we use for inner product calculations\n",
        "def f(x):\n",
        "  for i in range(len(time)):\n",
        "    if x == time[i]:\n",
        "      return issues[i]\n",
        "  return 0\n",
        "\n",
        "#This means aλ = b\n",
        "a,b = generatorMatrices(3,time,f)\n",
        "\n",
        "y = leastSquareApproximation(a,b,f,x)\n",
        "ax.plot(x,y)\n",
        "\n",
        "plt.show()\n",
        "\n",
        "print(leastSquareApproximation(a,b,f,1))"
      ],
      "metadata": {
        "colab": {
          "base_uri": "https://localhost:8080/",
          "height": 447
        },
        "id": "S19TnAUrsR2F",
        "outputId": "634c1ac8-25c8-4436-d98c-1f3c9b621def"
      },
      "execution_count": 46,
      "outputs": [
        {
          "output_type": "display_data",
          "data": {
            "text/plain": [
              "<Figure size 640x480 with 1 Axes>"
            ],
            "image/png": "[encoded data removed]"
          },
          "metadata": {}
        },
        {
          "output_type": "stream",
          "name": "stdout",
          "text": [
            "93.4848484850193\n"
          ]
        }
      ]
    },
    {
      "cell_type": "markdown",
      "source": [
        "##11. We have developed a certain software with long-time support. After counting every month how many new issues have been reported by testers and users, we found the following data:<br>![image.png](data:image/png;base64,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)<br>The project manager has decided to discontinue the support when the reported issues per month become less than 5. However, the manager must tell the company when the disconuation will occur in order to estimate expenses. We will help the manager by creating a model that aproximates the above values in the sense of least-squares by a function of the form f(t) = a1/t + a2/t^2 + a3/t^3 + a4/t^4.\n"
      ],
      "metadata": {
        "id": "OmEcUmWzRt8M"
      }
    },
    {
      "cell_type": "code",
      "source": [
        "month=[1,2,3,4,5,6,7,8,9,10,11,12]\n",
        "issues=[3260,533,214,116,73,50,36,28,22,17,14,12]"
      ],
      "metadata": {
        "id": "k-y1oeXJPSYB"
      },
      "execution_count": 126,
      "outputs": []
    },
    {
      "cell_type": "code",
      "source": [
        "def generatorMatrices2(degree,data,f):\n",
        "  '''\n",
        "  Parameters\n",
        "  ----------\n",
        "    degree : integer\n",
        "        degree of the polynomial we are trying to calculate\n",
        "    data:array\n",
        "        data of the point mesh\n",
        "    f: function\n",
        "\n",
        "  Returns\n",
        "  -------\n",
        "    a,b: arrays\n",
        "        a and b matrices of generators in the form: u1 = t, u2 = t^2,..., un = t^n\n",
        "  '''\n",
        "\n",
        "  a = [[innerProduct(lambda x: x**(-i-1),lambda x: x**(-j-1),data) for j in range(degree+1)] for i in range(degree+1)]\n",
        "  b = [innerProduct(lambda x: x**(-i-1),f,data) for i in range(degree+1)]\n",
        "  return a,b\n",
        "\n",
        "def leastSquareApproximation2(a,b,f,x):\n",
        "  '''\n",
        "  Parameters\n",
        "  ----------\n",
        "    a : array\n",
        "    b : array\n",
        "        both a and b are the generator matrices\n",
        "    f: function\n",
        "    x: float\n",
        "        point of evaluation of the approximation\n",
        "\n",
        "  Returns\n",
        "  -------\n",
        "    approximation: float\n",
        "        approximation to the function by the least-square method in the form:\n",
        "        f(t) = a1/t + a2/t^2 + a3/t^3 + a4/t^4\n",
        "  '''\n",
        "  sol = np.linalg.solve(a,b)\n",
        "  return sum([sol[i]/(lambda x: x**(i+1))(x) for i in range(0,len(sol))])"
      ],
      "metadata": {
        "id": "tK2LYqPBL5WU"
      },
      "execution_count": 146,
      "outputs": []
    },
    {
      "cell_type": "markdown",
      "source": [
        "###a)Plot the set of points together with the best approximation in the above sense."
      ],
      "metadata": {
        "id": "Ly_0nGqPSZSc"
      }
    },
    {
      "cell_type": "code",
      "source": [
        "#We want to approximate this mesh of points with a straigth line\n",
        "x = np.linspace(1,12,12)\n",
        "fig, ax = plt.subplots()\n",
        "ax.scatter(month,issues)\n",
        "\n",
        "#This will be the function we use for inner product calculations\n",
        "def f(x):\n",
        "  for i in range(len(month)):\n",
        "    if x == month[i]:\n",
        "      return issues[i]\n",
        "  return 0\n",
        "\n",
        "#This means aλ = b\n",
        "a,b = generatorMatrices2(2,month,f)\n",
        "\n",
        "y = leastSquareApproximation2(a,b,f,x)\n",
        "ax.plot(x,y)\n",
        "\n",
        "plt.show()"
      ],
      "metadata": {
        "id": "5tKykj8FTI40",
        "colab": {
          "base_uri": "https://localhost:8080/",
          "height": 430
        },
        "outputId": "7a81710b-c589-404a-985e-bd249518409d"
      },
      "execution_count": 142,
      "outputs": [
        {
          "output_type": "display_data",
          "data": {
            "text/plain": [
              "<Figure size 640x480 with 1 Axes>"
            ],
            "image/png": "[encoded data removed]"
          },
          "metadata": {}
        }
      ]
    },
    {
      "cell_type": "markdown",
      "source": [
        "###b) Find the first value of t such that f(t) = 5 to answer the manager’s query."
      ],
      "metadata": {
        "id": "9NQVf6qHOl__"
      }
    },
    {
      "cell_type": "code",
      "source": [
        "approximation = newtonRalphson(lambda t: leastSquareApproximation2(a,b,f,t)-4,13,0.000001)\n",
        "print(\"Approximately, the service could be ended in month\", round(approximation), \"by that time\",\n",
        "      \"we would have\", leastSquareApproximation2(a,b,f,approximation),\"issues, presumably\")"
      ],
      "metadata": {
        "colab": {
          "base_uri": "https://localhost:8080/"
        },
        "id": "D_8XiDgvOoGT",
        "outputId": "bde3bb34-9f0e-45f9-a20e-63a195d21c75"
      },
      "execution_count": 145,
      "outputs": [
        {
          "output_type": "stream",
          "name": "stdout",
          "text": [
            "Approximately, the service could be ended in month 34 by that time we would have 4.00000000000004 issues, presumably\n"
          ]
        }
      ]
    },
    {
      "cell_type": "markdown",
      "source": [
        "##12.We would like to approximate the function f(x) = e^(−x/2)*(2 sin(x) + 1) in the interval [−3, 3] by means of a spline curve. To this end, we consider the partition of [−3, 3] in four subintervals of width 1.5. Plot some axes where you represent the following items together:\n"
      ],
      "metadata": {
        "id": "MC--2BDBToC9"
      }
    },
    {
      "cell_type": "markdown",
      "source": [
        "###a) the graph of f(x) on the domain [−3, 3],\n"
      ],
      "metadata": {
        "id": "KdM7-cbfT5cD"
      }
    },
    {
      "cell_type": "code",
      "source": [
        "def f(x):\n",
        "  return (np.e**(-x/2))*(2*np.sin(x)+1)"
      ],
      "metadata": {
        "id": "K1tj7JneULh_"
      },
      "execution_count": 48,
      "outputs": []
    },
    {
      "cell_type": "code",
      "source": [
        "fig, ax = plt.subplots()\n",
        "\n",
        "x = np.linspace(-3,3,200)\n",
        "ax.plot(x,f(x))\n",
        "\n",
        "plt.show()"
      ],
      "metadata": {
        "colab": {
          "base_uri": "https://localhost:8080/",
          "height": 430
        },
        "id": "H71Zss1zv_8P",
        "outputId": "b6023a01-955c-4438-e7fe-82ef42ef947f"
      },
      "execution_count": 49,
      "outputs": [
        {
          "output_type": "display_data",
          "data": {
            "text/plain": [
              "<Figure size 640x480 with 1 Axes>"
            ],
            "image/png": "[encoded data removed]"
          },
          "metadata": {}
        }
      ]
    },
    {
      "cell_type": "markdown",
      "source": [
        "###b) a cubic Hermite spline that interpolates f(x) on the points of the partition."
      ],
      "metadata": {
        "id": "9DPUBHzuT8T7"
      }
    },
    {
      "cell_type": "code",
      "source": [
        "def dividedDifferencesForHermite(list):\n",
        "  '''\n",
        "  Parameters\n",
        "  ----------\n",
        "    list: float array\n",
        "        this list stores all the vectors that define the points with this format:\n",
        "         [(x0,y0,y'0,y''0,...),(x1,y1,y'1,y''1,...),...]\n",
        "\n",
        "  Returns\n",
        "  -------\n",
        "    L: matrix\n",
        "        first elements of each row of the table of divided differences\n",
        "  '''\n",
        "  L = []\n",
        "  points = []\n",
        "  pointer = []\n",
        "  row = []\n",
        "  n = 0\n",
        "\n",
        "  for i in range(len(list)):\n",
        "    n = n + len(list[i]) - 1\n",
        "    for j in range(1,len(list[i])):\n",
        "      points.append(list[i][0])\n",
        "      pointer.append(i)\n",
        "      row.append(list[i][1])\n",
        "  L.append(row)\n",
        "\n",
        "  for i in range(1,n):\n",
        "    row = []\n",
        "    for j in range(n-i):\n",
        "      if (points[j] != points[j+i]):\n",
        "        row.append((L[i-1][j]-L[i-1][j+1])/(points[j]-points[j+i]))\n",
        "      else:\n",
        "        row.append(list[pointer[j]][i+1]/math.factorial(i))\n",
        "    L.append(row)\n",
        "\n",
        "  return [row[0] for row in L]\n",
        "\n",
        "def hermiteInterpolation(t,list):\n",
        "  '''\n",
        "  Parameters\n",
        "  ----------\n",
        "    t: float\n",
        "        variable\n",
        "    list: float array\n",
        "        this list stores all the vectors that define the points with this format:\n",
        "         [(x0,y0,y'0,y''0,...),(x1,y1,y'1,y''1,...),...]\n",
        "  Returns\n",
        "  -------\n",
        "    result: float\n",
        "      p(t)\n",
        "  '''\n",
        "  dd = dividedDifferencesForHermite(list)\n",
        "  points = [] #this vector contains all the points\n",
        "\n",
        "  for i in range(len(list)):\n",
        "    for j in range(1,len(list[i])):\n",
        "      points.append(list[i][0])\n",
        "\n",
        "  #these two lines are the first summand of p(t)\n",
        "  result = dd[0]\n",
        "  product = 1 #product of factors\n",
        "\n",
        "  for i in range(1,len(points)): #n iterarions\n",
        "    product *= t-points[i-1]\n",
        "    result += dd[i]*product\n",
        "  return result"
      ],
      "metadata": {
        "id": "FWuKZ6kLUnhy"
      },
      "execution_count": 50,
      "outputs": []
    },
    {
      "cell_type": "code",
      "source": [
        "def secondDerivative(f,x):\n",
        "  '''\n",
        "  Parameters\n",
        "  ----------\n",
        "    f: function\n",
        "    x: float\n",
        "        point of evaluation\n",
        "  Returns\n",
        "  -------\n",
        "    f'(x): float\n",
        "      second derivative of f in x\n",
        "  '''\n",
        "  h = 0.0001\n",
        "  return (f(x+h)-2*f(x)+f(x-h))/(h**2)"
      ],
      "metadata": {
        "id": "LqH_rQuywObw"
      },
      "execution_count": 51,
      "outputs": []
    },
    {
      "cell_type": "code",
      "source": [
        "def pointData(f,x):\n",
        "  '''\n",
        "\n",
        "  Generalization for the data I have to give for a spline approximation\n",
        "\n",
        "  Parameters\n",
        "  ----------\n",
        "    f: function\n",
        "    x: float\n",
        "        point of evaluation\n",
        "\n",
        "  Returns\n",
        "  -------\n",
        "    data: array\n",
        "      array with the data of the point in the format:\n",
        "       [x,f(x),f'(x),f''(x)]\n",
        "  '''\n",
        "  return [x,f(x),derivative(f,x),secondDerivative(f,x)]"
      ],
      "metadata": {
        "id": "p2_wzvuRXtTd"
      },
      "execution_count": 52,
      "outputs": []
    },
    {
      "cell_type": "code",
      "source": [
        "x = np.linspace(-3,3)\n",
        "divisions = [-3,-1.5,0,1.5,3]\n",
        "\n",
        "def spline(x):\n",
        "  if x >= divisions[0] and x <= divisions[1]:\n",
        "    return hermiteInterpolation(x,[\n",
        "                                pointData(f,divisions[0]),\n",
        "                                pointData(f,divisions[1])])\n",
        "  elif x >= divisions[1] and x <= divisions[2]:\n",
        "    return hermiteInterpolation(x,[\n",
        "                                pointData(f,divisions[1]),\n",
        "                                pointData(f,divisions[2])])\n",
        "  elif x >= divisions[2] and x <= divisions[3]:\n",
        "    return hermiteInterpolation(x,[\n",
        "                                pointData(f,divisions[2]),\n",
        "                                pointData(f,divisions[3])])\n",
        "  elif x >= divisions[3] and x <= divisions[4]:\n",
        "    return hermiteInterpolation(x,[\n",
        "                                pointData(f,divisions[3]),\n",
        "                                pointData(f,divisions[4])])\n",
        "  elif x >= divisions[4] and x <= divisions[5]:\n",
        "    return hermiteInterpolation(x,[\n",
        "                                pointData(f,divisions[3]),\n",
        "                                pointData(f,divisions[4])])"
      ],
      "metadata": {
        "id": "shfZ-KCCwU-X"
      },
      "execution_count": 53,
      "outputs": []
    },
    {
      "cell_type": "code",
      "source": [
        "splineImage = [spline(s) for s in x]\n",
        "\n",
        "fig, ax = plt.subplots()\n",
        "\n",
        "ax.plot(x,splineImage)\n",
        "\n",
        "plt.show()"
      ],
      "metadata": {
        "colab": {
          "base_uri": "https://localhost:8080/",
          "height": 430
        },
        "id": "JaNjnK0DWbSs",
        "outputId": "7cce625d-0035-49ee-90a3-cf7dec753ad3"
      },
      "execution_count": 54,
      "outputs": [
        {
          "output_type": "display_data",
          "data": {
            "text/plain": [
              "<Figure size 640x480 with 1 Axes>"
            ],
            "image/png": "[encoded data removed]"
          },
          "metadata": {}
        }
      ]
    },
    {
      "cell_type": "markdown",
      "source": [
        "###Both plotted at the same time:"
      ],
      "metadata": {
        "id": "AhvpkLmOUqeT"
      }
    },
    {
      "cell_type": "code",
      "source": [
        "splineImage = [spline(s) for s in x]\n",
        "\n",
        "fig, ax = plt.subplots()\n",
        "\n",
        "\n",
        "ax.plot(x,f(x), label=\"f(x)\")\n",
        "ax.plot(x,splineImage, label=\"spline\")\n",
        "\n",
        "ax.legend()\n",
        "\n",
        "plt.show()"
      ],
      "metadata": {
        "colab": {
          "base_uri": "https://localhost:8080/",
          "height": 0
        },
        "id": "GFxnMTx5UxAM",
        "outputId": "68087ecd-8ca7-4470-aa5f-f326e0f7ca25"
      },
      "execution_count": 55,
      "outputs": [
        {
          "output_type": "display_data",
          "data": {
            "text/plain": [
              "<Figure size 640x480 with 1 Axes>"
            ],
            "image/png": "[encoded data removed]"
          },
          "metadata": {}
        }
      ]
    },
    {
      "cell_type": "markdown",
      "source": [
        "##13.We would like to obtain a curve that resembles a circle by means of a cubic Hermite spline (Bezier curve). To this end, consider the following points pi and speeds vi for some a > 0:<br>![image.png](data:image/png;base64,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)<br>Plot some axes where you represent the following items together:"
      ],
      "metadata": {
        "id": "ulkgngIVak1C"
      }
    },
    {
      "cell_type": "markdown",
      "source": [
        "###a) the unit circle parametrized by (x, y) = (cos(t),sin(t)), t ∈ [0, 2π]"
      ],
      "metadata": {
        "id": "mYpNa6PqbFPZ"
      }
    },
    {
      "cell_type": "code",
      "source": [
        "def f(t):\n",
        "  return np.sin(t)+np.cos(t)"
      ],
      "metadata": {
        "id": "O7XH1WC-dzRw"
      },
      "execution_count": 56,
      "outputs": []
    },
    {
      "cell_type": "code",
      "source": [
        "r = np.linspace(0,2*np.pi,200)\n",
        "\n",
        "fig, ax = plt.subplots()\n",
        "ax.plot(np.cos(r), np.sin(r))\n",
        "\n",
        "plt.axis('equal') #This forces the aspect ratio to be 1:1\n",
        "plt.show()"
      ],
      "metadata": {
        "colab": {
          "base_uri": "https://localhost:8080/",
          "height": 0
        },
        "id": "13S2K9m0bfPE",
        "outputId": "00afda73-8829-44ce-9c3c-1f6611591048"
      },
      "execution_count": 57,
      "outputs": [
        {
          "output_type": "display_data",
          "data": {
            "text/plain": [
              "<Figure size 640x480 with 1 Axes>"
            ],
            "image/png": "[encoded data removed]"
          },
          "metadata": {}
        }
      ]
    },
    {
      "cell_type": "markdown",
      "source": [
        "###b) a double cubic Hermite spline that interpolates the above data."
      ],
      "metadata": {
        "id": "r6bK2JuUdMIf"
      }
    },
    {
      "cell_type": "code",
      "source": [
        "a = 1.7 #a is a variable parameter that has to be fine-tuned to get a good enough result\n",
        "\n",
        "def circunferenceX(t):\n",
        "  if t<=0:\n",
        "    return hermiteInterpolation(t,[[-1,-1,0],[0,0,a]])\n",
        "  elif t>0:\n",
        "    return hermiteInterpolation(t,[[0,0,a],[1,1,0]])\n",
        "\n",
        "def lowerHemisphereY(t,a):\n",
        "  if t<=0:\n",
        "    return hermiteInterpolation(t,[[-1,0,-a],[0,-1,0]])\n",
        "  elif t>0:\n",
        "    return hermiteInterpolation(t,[[0,-1,0],[1,0,a]])\n",
        "\n",
        "def upperHemisphereY(t,a):\n",
        "  if t <= 0:\n",
        "    return hermiteInterpolation(t,[[-1,0,a],[0,1,0]])\n",
        "  elif t > 0:\n",
        "    return hermiteInterpolation(t,[[0,1,0],[1,0,-a]])\n",
        "\n",
        "fig, ax = plt.subplots()\n",
        "\n",
        "t = np.linspace(-1,1,200)\n",
        "#plot lower hemisphere\n",
        "x = [circunferenceX(s) for s in t]\n",
        "yUp = [lowerHemisphereY(s,a) for s in t]\n",
        "ax.plot(x,yUp,color=\"orange\")\n",
        "\n",
        "#plot upper hemisphere\n",
        "yDown = [upperHemisphereY(s,a) for s in t]\n",
        "ax.plot(x,yDown,color=\"orange\")\n",
        "\n",
        "plt.axis('equal') #This forces the aspect ratio to be 1:1\n",
        "plt.show()"
      ],
      "metadata": {
        "colab": {
          "base_uri": "https://localhost:8080/",
          "height": 0
        },
        "id": "ybTOnk2abn83",
        "outputId": "54b9fa33-0f00-49af-f969-b79d82be9c38"
      },
      "execution_count": 58,
      "outputs": [
        {
          "output_type": "display_data",
          "data": {
            "text/plain": [
              "<Figure size 640x480 with 1 Axes>"
            ],
            "image/png": "[encoded data removed]"
          },
          "metadata": {}
        }
      ]
    },
    {
      "cell_type": "markdown",
      "source": [
        "###Both plotted"
      ],
      "metadata": {
        "id": "uBtdW79PtPPg"
      }
    },
    {
      "cell_type": "code",
      "source": [
        "fig, ax = plt.subplots()\n",
        "\n",
        "r = np.linspace(0,2*np.pi,200)\n",
        "ax.plot(np.cos(r), np.sin(r),label=\"f(x)=sin(x)+cos(x)\")\n",
        "\n",
        "#approximated circle\n",
        "a = 1.7\n",
        "t = np.linspace(-1,1,200)\n",
        "#plot lower hemisphere\n",
        "x = [circunferenceX(s) for s in t]\n",
        "yUp = [lowerHemisphereY(s,a) for s in t]\n",
        "ax.plot(x,yUp,color=\"orange\", label=\"Approximation\")\n",
        "\n",
        "#plot upper hemisphere\n",
        "yDown = [upperHemisphereY(s,a) for s in t]\n",
        "ax.plot(x,yDown,color=\"orange\",label=\"Approximation\")\n",
        "\n",
        "plt.axis('equal') #This forces the aspect ratio to be 1:1\n",
        "ax.legend([\"f(x)=sin(x)+cos(x)\",\"Approximation\"])\n",
        "plt.show()"
      ],
      "metadata": {
        "colab": {
          "base_uri": "https://localhost:8080/",
          "height": 0
        },
        "id": "NH4MmK8bhK2J",
        "outputId": "abbf322f-ef25-43c5-8a00-04ad3c692699"
      },
      "execution_count": 59,
      "outputs": [
        {
          "output_type": "display_data",
          "data": {
            "text/plain": [
              "<Figure size 640x480 with 1 Axes>"
            ],
            "image/png": "[encoded data removed]"
          },
          "metadata": {}
        }
      ]
    },
    {
      "cell_type": "markdown",
      "source": [
        "##14. Choose one of the following three shapes and plot a double cubic Hermite spline (Bézier curve) that looks like it:\n"
      ],
      "metadata": {
        "id": "6K_SaAElmRsd"
      }
    },
    {
      "cell_type": "markdown",
      "source": [
        "I've choosen the letter N:<br>\n",
        "![image.png](data:image/png;base64,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)"
      ],
      "metadata": {
        "id": "483OTw0JvPXq"
      }
    },
    {
      "cell_type": "code",
      "source": [
        "a = 2 #a is a variable parameter that has to be fine-tuned to get a good enough result\n",
        "\n",
        "def letterXUpper(t):\n",
        "  if t>=0 and t<= 1:\n",
        "    return hermiteInterpolation(t,[[0,0,a/10],[1,1,a]])\n",
        "  elif t>1 and t<= 1.7:\n",
        "    return hermiteInterpolation(t,[[1,1,a/2],[1.7,1.7,-a/10]])\n",
        "  elif t>1.7 and t<= 2:\n",
        "    return hermiteInterpolation(t,[[1.7,1.7,a/10],[2,2,0]])\n",
        "  elif t>2 and t<= 3:\n",
        "    return hermiteInterpolation(t,[[2,2,0],[3,3,0]])\n",
        "\n",
        "def letterYUpper(t):\n",
        "  if t>=0 and t<= 1:\n",
        "    return hermiteInterpolation(t,[[0,0,a],[1,4,0]])\n",
        "  elif t>1 and t<= 1.7:\n",
        "    return hermiteInterpolation(t,[[1,4,0],[1.7,2,-a]])\n",
        "  elif t>1.7 and t<= 2:\n",
        "    return hermiteInterpolation(t,[[1.7,2,a],[2,4,0]])\n",
        "  elif t>2 and t<= 3:\n",
        "    return hermiteInterpolation(t,[[2,4,0],[3,4,0]])\n",
        "\n",
        "\n",
        "def letterXLower(t):\n",
        "  if t>=0 and t<= 1:\n",
        "    return hermiteInterpolation(t,[[0,0,0],[1,1,0]])\n",
        "  elif t>1 and t<= 1.2:\n",
        "    return hermiteInterpolation(t,[[1,1,a/10],[1.2,1.2,a]])\n",
        "  elif t>1.2 and t<= 2:\n",
        "    return hermiteInterpolation(t,[[1.2,1.2,-a/10],[2,2,a]])\n",
        "  elif t>2 and t<= 3:\n",
        "    return hermiteInterpolation(t,[[2,2,a],[3,3,a/10]])\n",
        "\n",
        "def letterYLower(t):\n",
        "  if t>=0 and t<= 1:\n",
        "    return hermiteInterpolation(t,[[0,0,0],[1,0,0]])\n",
        "  elif t>1 and t<= 1.2:\n",
        "    return hermiteInterpolation(t,[[1,0,a],[1.2,2,a]])\n",
        "  elif t>1.2 and t<= 2:\n",
        "    return hermiteInterpolation(t,[[1.2,2,-a/2],[2,0,a/10]])\n",
        "  elif t>2 and t<= 3:\n",
        "    return hermiteInterpolation(t,[[2,0,0],[3,4,a]])\n",
        "\n",
        "fig, ax = plt.subplots()\n",
        "\n",
        "t = np.linspace(0,3,200)\n",
        "#plot upper part\n",
        "xUpper = [letterXUpper(s) for s in t]\n",
        "yUpper = [letterYUpper(s) for s in t]\n",
        "ax.plot(xUpper,yUpper,color=\"orange\")\n",
        "\n",
        "#plot lower part\n",
        "xUpper = [letterXLower(s) for s in t]\n",
        "yUpper = [letterYLower(s) for s in t]\n",
        "ax.plot(xUpper,yUpper,color=\"orange\")\n",
        "\n",
        "plt.axis('equal') #This forces the aspect ratio to be 1:1\n",
        "plt.show()"
      ],
      "metadata": {
        "id": "xbwbKxr9tfCN",
        "colab": {
          "base_uri": "https://localhost:8080/",
          "height": 430
        },
        "outputId": "a56a825a-e78e-4f22-84ed-1fe7fa318da2"
      },
      "execution_count": 60,
      "outputs": [
        {
          "output_type": "display_data",
          "data": {
            "text/plain": [
              "<Figure size 640x480 with 1 Axes>"
            ],
            "image/png": "[encoded data removed]"
          },
          "metadata": {}
        }
      ]
    },
    {
      "cell_type": "markdown",
      "source": [
        "#**Numerical integration**"
      ],
      "metadata": {
        "id": "zEA8jZwsAyP3"
      }
    },
    {
      "cell_type": "markdown",
      "source": [
        "##15. Consider the integral (from 0 to π)∫f(x)dx = (π^2)/4, f(x) being equal to (2xsin(x))/(3+cos(2x)). Find the absolute errors of the following approximations:"
      ],
      "metadata": {
        "id": "Mh51gUMvA6N1"
      }
    },
    {
      "cell_type": "code",
      "source": [
        "def f(x):\n",
        "  return(2*x*np.sin(x))/(3+np.cos(2*x))\n",
        "\n",
        "realValue = (np.pi**2)/4"
      ],
      "metadata": {
        "id": "QHXx3PgwEQC9"
      },
      "execution_count": 61,
      "outputs": []
    },
    {
      "cell_type": "markdown",
      "source": [
        "###Rectangular integration with n subintervals for n between 1 and 10."
      ],
      "metadata": {
        "id": "J0AfIfk_Dh_b"
      }
    },
    {
      "cell_type": "code",
      "source": [
        "#I'll use midpoint integration as it's far superior and gives better results.\n",
        "def midpointIntegration(f,a,b,n):\n",
        "  '''\n",
        "  Parameters\n",
        "  ----------\n",
        "    f : function\n",
        "    a : float\n",
        "        left-most extreme\n",
        "    b : float\n",
        "        right-most extreme\n",
        "    n : float\n",
        "        number of subintervals\n",
        "\n",
        "  Returns\n",
        "  -------\n",
        "    sum: float\n",
        "        midpoint sum\n",
        "  '''\n",
        "  sum = 0\n",
        "  h=(b-a)/n\n",
        "  x = a\n",
        "  for i in range(n):\n",
        "    sum += h*f(x+h/2)\n",
        "    x += h\n",
        "  return sum"
      ],
      "metadata": {
        "id": "bILH3BHzAw18"
      },
      "execution_count": 62,
      "outputs": []
    },
    {
      "cell_type": "code",
      "source": [
        "print(\"The absolute error for midpoint integration is:\")\n",
        "for n in range(1,10+1):\n",
        "  print(\" ·For n =\",n,\":\",absoluteError(realValue,midpointIntegration(f,1,np.pi,n)))"
      ],
      "metadata": {
        "colab": {
          "base_uri": "https://localhost:8080/"
        },
        "id": "-Gleb1BvEw7l",
        "outputId": "1f7b3f6d-0860-49eb-ce74-c9de324f985f"
      },
      "execution_count": 63,
      "outputs": [
        {
          "output_type": "stream",
          "name": "stdout",
          "text": [
            "The absolute error for midpoint integration is:\n",
            " ·For n = 1 : 0.6971382542312985\n",
            " ·For n = 2 : 0.007993450816465852\n",
            " ·For n = 3 : 0.13690028244609564\n",
            " ·For n = 4 : 0.16183491345595913\n",
            " ·For n = 5 : 0.17483263018513462\n",
            " ·For n = 6 : 0.18207379305880256\n",
            " ·For n = 7 : 0.18643323672809986\n",
            " ·For n = 8 : 0.18926353794062223\n",
            " ·For n = 9 : 0.1912046370330054\n",
            " ·For n = 10 : 0.1925933120844081\n"
          ]
        }
      ]
    },
    {
      "cell_type": "markdown",
      "source": [
        "###Trapezoidal integration with n subintervals for n between 1 and 10."
      ],
      "metadata": {
        "id": "9p77GI23FkdM"
      }
    },
    {
      "cell_type": "code",
      "source": [
        "def trapezoidIntegration(f,a,b,n):\n",
        "  '''\n",
        "  Parameters\n",
        "  ----------\n",
        "    f : function\n",
        "    a : float\n",
        "        left-most extreme\n",
        "    b : float\n",
        "        right-most extreme\n",
        "    n : float\n",
        "        number of subintervals\n",
        "\n",
        "  Returns\n",
        "  -------\n",
        "    sum: float\n",
        "        trapezoidal integration approximation\n",
        "  '''\n",
        "  sum = 0\n",
        "  h=(b-a)/n\n",
        "  x = a\n",
        "  for i in range(n):\n",
        "    sum += h*(f(x+h)+f(x))/2\n",
        "    x += h\n",
        "  return sum"
      ],
      "metadata": {
        "id": "whnoSW5mFF3D"
      },
      "execution_count": 64,
      "outputs": []
    },
    {
      "cell_type": "code",
      "source": [
        "print(\"The absolute error for trapezoidal integration is:\")\n",
        "for n in range(1,10+1):\n",
        "  print(\" ·For n =\",n,\":\",absoluteError(realValue,trapezoidIntegration(f,1,np.pi,n)))"
      ],
      "metadata": {
        "colab": {
          "base_uri": "https://localhost:8080/"
        },
        "outputId": "e28f75b1-cd2c-4cd4-e7c0-ad6324bf705b",
        "id": "w-BRq1eMFtfk"
      },
      "execution_count": 65,
      "outputs": [
        {
          "output_type": "stream",
          "name": "stdout",
          "text": [
            "The absolute error for trapezoidal integration is:\n",
            " ·For n = 1 : 1.769958960462277\n",
            " ·For n = 2 : 0.5364103531154893\n",
            " ·For n = 3 : 0.3259086726265501\n",
            " ·For n = 4 : 0.2722019019659774\n",
            " ·For n = 5 : 0.24588274448946335\n",
            " ·For n = 6 : 0.23140447753632287\n",
            " ·For n = 7 : 0.22268111313259098\n",
            " ·For n = 8 : 0.21701840771096848\n",
            " ·For n = 9 : 0.21313540328127845\n",
            " ·For n = 10 : 0.21035768733729787\n"
          ]
        }
      ]
    },
    {
      "cell_type": "markdown",
      "source": [
        "###Simpson's formula with n subintervals for n between 1 and 10."
      ],
      "metadata": {
        "id": "tBsLVX9-GAc6"
      }
    },
    {
      "cell_type": "code",
      "source": [
        "def simpsonIntegration(f,a,b,n):\n",
        "  '''\n",
        "  Important! Less intervals are required than other methods as this gives a\n",
        "  very very precise approximation to the integral\n",
        "\n",
        "  Parameters\n",
        "  ----------\n",
        "    f : function\n",
        "    a : float\n",
        "        left-most extreme\n",
        "    b : float\n",
        "        right-most extreme\n",
        "    n : float\n",
        "        number of subintervals\n",
        "\n",
        "  Returns\n",
        "  -------\n",
        "    sum: float\n",
        "        approximation by the Simpon's formula of integration\n",
        "  '''\n",
        "  sum = 0\n",
        "  h=(b-a)/n\n",
        "  x = a\n",
        "  for i in range(n):\n",
        "    sum += h*(f(x+h)+4*f(x+h/2)+f(x))/6\n",
        "    x += h\n",
        "  return sum"
      ],
      "metadata": {
        "id": "a7em_vxIGAD0"
      },
      "execution_count": 66,
      "outputs": []
    },
    {
      "cell_type": "code",
      "source": [
        "print(\"The absolute error for integration by the Simpson's formula is:\")\n",
        "for n in range(1,10+1):\n",
        "  print(\" ·For n =\",n,\":\",absoluteError(realValue,simpsonIntegration(f,1,np.pi,n)))"
      ],
      "metadata": {
        "colab": {
          "base_uri": "https://localhost:8080/"
        },
        "id": "IdFQNjhlFyc1",
        "outputId": "7b25d2d3-2afd-4ca8-a11e-a82494358723"
      },
      "execution_count": 67,
      "outputs": [
        {
          "output_type": "stream",
          "name": "stdout",
          "text": [
            "The absolute error for integration by the Simpson's formula is:\n",
            " ·For n = 1 : 0.12522748399989325\n",
            " ·For n = 2 : 0.18413241824947324\n",
            " ·For n = 3 : 0.19990307917291394\n",
            " ·For n = 4 : 0.1986239096259652\n",
            " ·For n = 5 : 0.19851600161991056\n",
            " ·For n = 6 : 0.19851735455130948\n",
            " ·For n = 7 : 0.19851586219626327\n",
            " ·For n = 8 : 0.1985151611974043\n",
            " ·For n = 9 : 0.19851489244909626\n",
            " ·For n = 10 : 0.19851477050203803\n"
          ]
        }
      ]
    },
    {
      "cell_type": "code",
      "source": [],
      "metadata": {
        "id": "4qXxJrV8GLYD"
      },
      "execution_count": 67,
      "outputs": []
    },
    {
      "cell_type": "markdown",
      "source": [
        "##16. The gamma function is defined for all x > 0 by the improper integral: <br> Γ(x)=(from 0 to +∞)∫(t^(x-1)*e^(-t))dt"
      ],
      "metadata": {
        "id": "N1XP_0ksJR4L"
      }
    },
    {
      "cell_type": "markdown",
      "source": [
        "###Transform it into an integral over [0,1] by substituting t = 1/s -1"
      ],
      "metadata": {
        "id": "haUlEMpNKVhC"
      }
    },
    {
      "cell_type": "markdown",
      "source": [
        "(from 0 to 1)∫(1/s-1)^(x-1)*e^(1-1/s)dt"
      ],
      "metadata": {
        "id": "WHSMybv2LfJZ"
      }
    },
    {
      "cell_type": "markdown",
      "source": [
        "###Write a function gamma(x) that returns the approximate value of Γ(x) by Simpson's formula with 10 subintervals"
      ],
      "metadata": {
        "id": "rPbcSZZELVPR"
      }
    },
    {
      "cell_type": "code",
      "source": [
        "def gamma(x):\n",
        "  return (simpsonIntegration(lambda s: ((1/s-1)**(x-1))*(np.e**(1-1/s)),0.1,1,10))"
      ],
      "metadata": {
        "id": "Q62cS7qqLqGH"
      },
      "execution_count": 161,
      "outputs": []
    },
    {
      "cell_type": "code",
      "source": [
        "gamma(1)"
      ],
      "metadata": {
        "colab": {
          "base_uri": "https://localhost:8080/"
        },
        "id": "W4ZeQ9mAMSWS",
        "outputId": "ab9a8566-59c2-4f06-8775-4678c8de1e25"
      },
      "execution_count": 162,
      "outputs": [
        {
          "output_type": "execute_result",
          "data": {
            "text/plain": [
              "0.4036498326761686"
            ]
          },
          "metadata": {},
          "execution_count": 162
        }
      ]
    },
    {
      "cell_type": "markdown",
      "source": [
        "###It tuns out that Γ(n = (n-1)! for all n ∈ N. Use this fact to test the function obtained in item (b) for integer values of x from 1 to 10."
      ],
      "metadata": {
        "id": "2FzNoD6VTDJ4"
      }
    },
    {
      "cell_type": "code",
      "source": [
        "def factorial(x):\n",
        "  if x==0:\n",
        "    return 1\n",
        "  return x*factorial(x-1)"
      ],
      "metadata": {
        "id": "7d-q0JmoUojy"
      },
      "execution_count": 70,
      "outputs": []
    },
    {
      "cell_type": "code",
      "source": [
        "for x in range(1,10+1):\n",
        "  print(\"Γ(\",x,\") =\", gamma(x),\" |\", x,\"! =\", factorial(x))"
      ],
      "metadata": {
        "id": "vnqR520wMbOS",
        "colab": {
          "base_uri": "https://localhost:8080/"
        },
        "outputId": "684e09ba-b3c9-4d94-a965-38aa7a8dfbc5"
      },
      "execution_count": 71,
      "outputs": [
        {
          "output_type": "stream",
          "name": "stdout",
          "text": [
            "Γ( 1 ) = 0.40365070942765535  | 1 ! = 1\n",
            "Γ( 2 ) = 0.19268777312919078  | 2 ! = 2\n",
            "Γ( 3 ) = 0.21098971143492581  | 3 ! = 6\n",
            "Γ( 4 ) = 0.3861033891020917  | 4 ! = 24\n",
            "Γ( 5 ) = 1.0246614723260756  | 5 ! = 120\n",
            "Γ( 6 ) = 3.6142488077217325  | 6 ! = 720\n",
            "Γ( 7 ) = 15.882769264560073  | 7 ! = 5040\n",
            "Γ( 8 ) = 82.78054943826044  | 8 ! = 40320\n",
            "Γ( 9 ) = 495.0334881678125  | 9 ! = 362880\n",
            "Γ( 10 ) = 3338.8816729443815  | 10 ! = 3628800\n"
          ]
        }
      ]
    },
    {
      "cell_type": "markdown",
      "source": [
        "##17.We would like to approximate the function f(x)=log(1+x) in the interval [-0.5,0.5] by a certain polynomial."
      ],
      "metadata": {
        "id": "DiLz5JM1e2vR"
      }
    },
    {
      "cell_type": "code",
      "source": [
        "def f(x):\n",
        "  return np.log(1+x)\n",
        "\n",
        "inicio = -0.5\n",
        "fin = 0.5"
      ],
      "metadata": {
        "id": "O7aoVQdgUtjz"
      },
      "execution_count": 72,
      "outputs": []
    },
    {
      "cell_type": "code",
      "source": [],
      "metadata": {
        "id": "MADDUyXIkgaA"
      },
      "execution_count": 72,
      "outputs": []
    },
    {
      "cell_type": "code",
      "source": [
        "fig, ax = plt.subplots()\n",
        "x = np.linspace(inicio,fin,100)\n",
        "ax.plot(x,f(x),label = \"f(x)\")\n",
        "\n",
        "\n",
        "\n",
        "plt.show()"
      ],
      "metadata": {
        "colab": {
          "base_uri": "https://localhost:8080/",
          "height": 430
        },
        "id": "VtVPF967erR-",
        "outputId": "2adcd244-48aa-4597-a002-8367c7417155"
      },
      "execution_count": 73,
      "outputs": [
        {
          "output_type": "display_data",
          "data": {
            "text/plain": [
              "<Figure size 640x480 with 1 Axes>"
            ],
            "image/png": "[encoded data removed]"
          },
          "metadata": {}
        }
      ]
    },
    {
      "cell_type": "code",
      "source": [],
      "metadata": {
        "id": "X6-GmHLJffC_"
      },
      "execution_count": 73,
      "outputs": []
    }
  ]
}